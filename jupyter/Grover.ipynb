{
 "cells": [
  {
   "cell_type": "markdown",
   "metadata": {},
   "source": [
    "# 开始实现一个Grover算法"
   ]
  },
  {
   "cell_type": "code",
   "execution_count": 1,
   "metadata": {},
   "outputs": [],
   "source": [
    "%matplotlib inline\n",
    "from IPython.display import Image\n",
    "from numpy import pi\n",
    "import numpy as np\n",
    "from qutip import *\n",
    "from qutip.qip.operations import *\n",
    "from qutip.qip.circuit import QubitCircuit, Gate\n",
    "import math\n",
    "from math import sin, cos"
   ]
  },
  {
   "cell_type": "code",
   "execution_count": 2,
   "metadata": {},
   "outputs": [],
   "source": [
    "import sys\n",
    "sys.path.append('..')\n",
    "sys.path.append('../library')\n",
    "from library.my_quantum_tool import *\n",
    "from library.my_gate import ccphase, pauli_x"
   ]
  },
  {
   "cell_type": "code",
   "execution_count": 3,
   "metadata": {},
   "outputs": [],
   "source": [
    "qubit_num = 3\n",
    "reverse_states = False  # 和qc engine保持一致,没法保持一致"
   ]
  },
  {
   "cell_type": "code",
   "execution_count": 4,
   "metadata": {},
   "outputs": [],
   "source": [
    "\n",
    "def HadGate():\n",
    "    qc = QubitCircuit(qubit_num, reverse_states=reverse_states)\n",
    "    for qubit in range(qubit_num):\n",
    "        qc.add_gate('SNOT', targets=[qubit])\n",
    "#     qc.png\n",
    "    return qc"
   ]
  },
  {
   "cell_type": "markdown",
   "metadata": {},
   "source": [
    "## 制备一个黑盒子"
   ]
  },
  {
   "cell_type": "code",
   "execution_count": 5,
   "metadata": {},
   "outputs": [],
   "source": [
    "# number_to_flip = 3\n",
    "def BlackBoxGate():\n",
    "    qc = QubitCircuit(qubit_num, reverse_states=reverse_states)\n",
    "    qc.user_gates = {\"CCPHASE\": ccphase, \"NOT\": pauli_x}\n",
    "    for qubit in range(0,1):\n",
    "        qc.add_gate(\"NOT\", qubit)\n",
    "    qc.add_gate(\"CCPHASE\", targets=range(qubit_num), arg_value={'qubit_num': qubit_num, 'rotation': 180})\n",
    "    for qubit in range(0,1):\n",
    "        qc.add_gate(\"NOT\", qubit)\n",
    "    return qc\n",
    "\n",
    "def GroverGate():\n",
    "    qc = QubitCircuit(qubit_num, reverse_states=reverse_states)\n",
    "    qc.user_gates = {\"CCPHASE\": ccphase, \"NOT\": pauli_x}\n",
    "    for qubit in range(qubit_num):\n",
    "        qc.add_gate('SNOT', targets=[qubit])\n",
    "        qc.add_gate('NOT', targets=[qubit])\n",
    " \n",
    "    qc.add_gate(\"CCPHASE\", targets=range(qubit_num), arg_value={'qubit_num': qubit_num, 'rotation': 180})\n",
    "    \n",
    "    for qubit in range(qubit_num):\n",
    "        qc.add_gate('NOT', targets=[qubit])\n",
    "        qc.add_gate('SNOT', targets=[qubit])\n",
    "    return qc"
   ]
  },
  {
   "cell_type": "code",
   "execution_count": 6,
   "metadata": {},
   "outputs": [
    {
     "data": {
      "image/png": "[encoded data removed]",
      "text/plain": [
       "<IPython.core.display.Image object>"
      ]
     },
     "execution_count": 6,
     "metadata": {},
     "output_type": "execute_result"
    }
   ],
   "source": [
    "had_gate = HadGate()\n",
    "had_gate.png"
   ]
  },
  {
   "cell_type": "code",
   "execution_count": 7,
   "metadata": {},
   "outputs": [
    {
     "name": "stderr",
     "output_type": "stream",
     "text": [
      "C:\\Users\\Tan Siwei\\AppData\\Local\\conda\\conda\\envs\\py3\\lib\\site-packages\\qutip\\qip\\circuit.py:275: UserWarning: Unknown gate NOT\n",
      "  warnings.warn(\"Unknown gate %s\" % name)\n",
      "C:\\Users\\Tan Siwei\\AppData\\Local\\conda\\conda\\envs\\py3\\lib\\site-packages\\qutip\\qip\\circuit.py:275: UserWarning: Unknown gate CCPHASE\n",
      "  warnings.warn(\"Unknown gate %s\" % name)\n"
     ]
    },
    {
     "data": {
      "image/png": "[encoded data removed]",
      "text/plain": [
       "<IPython.core.display.Image object>"
      ]
     },
     "execution_count": 7,
     "metadata": {},
     "output_type": "execute_result"
    }
   ],
   "source": [
    "blackbox_gate = BlackBoxGate()\n",
    "blackbox_gate.png"
   ]
  },
  {
   "cell_type": "code",
   "execution_count": 8,
   "metadata": {
    "scrolled": true
   },
   "outputs": [
    {
     "data": {
      "image/png": "[encoded data removed]",
      "text/plain": [
       "<IPython.core.display.Image object>"
      ]
     },
     "execution_count": 8,
     "metadata": {},
     "output_type": "execute_result"
    }
   ],
   "source": [
    "grover_gate = GroverGate()\n",
    "grover_gate.png"
   ]
  },
  {
   "cell_type": "code",
   "execution_count": 9,
   "metadata": {
    "scrolled": true
   },
   "outputs": [
    {
     "data": {
      "text/html": [
       "<div>\n",
       "<style scoped>\n",
       "    .dataframe tbody tr th:only-of-type {\n",
       "        vertical-align: middle;\n",
       "    }\n",
       "\n",
       "    .dataframe tbody tr th {\n",
       "        vertical-align: top;\n",
       "    }\n",
       "\n",
       "    .dataframe thead th {\n",
       "        text-align: right;\n",
       "    }\n",
       "</style>\n",
       "<table border=\"1\" class=\"dataframe\">\n",
       "  <thead>\n",
       "    <tr style=\"text-align: right;\">\n",
       "      <th></th>\n",
       "      <th>000</th>\n",
       "      <th>001</th>\n",
       "      <th>010</th>\n",
       "      <th>011</th>\n",
       "      <th>100</th>\n",
       "      <th>101</th>\n",
       "      <th>110</th>\n",
       "      <th>111</th>\n",
       "    </tr>\n",
       "  </thead>\n",
       "  <tbody>\n",
       "    <tr>\n",
       "      <th>state</th>\n",
       "      <td>0.35</td>\n",
       "      <td>0.35</td>\n",
       "      <td>0.35</td>\n",
       "      <td>0.35</td>\n",
       "      <td>0.35</td>\n",
       "      <td>0.35</td>\n",
       "      <td>0.35</td>\n",
       "      <td>0.35</td>\n",
       "    </tr>\n",
       "  </tbody>\n",
       "</table>\n",
       "</div>"
      ],
      "text/plain": [
       "        000   001   010   011   100   101   110   111\n",
       "state  0.35  0.35  0.35  0.35  0.35  0.35  0.35  0.35"
      ]
     },
     "execution_count": 9,
     "metadata": {},
     "output_type": "execute_result"
    }
   ],
   "source": [
    "state1 = dot(*had_gate.propagators(),MultiQubitBaseState(qubit_num))\n",
    "parseStateVecPd(state1)"
   ]
  },
  {
   "cell_type": "code",
   "execution_count": 10,
   "metadata": {
    "scrolled": true
   },
   "outputs": [
    {
     "data": {
      "text/html": [
       "<div>\n",
       "<style scoped>\n",
       "    .dataframe tbody tr th:only-of-type {\n",
       "        vertical-align: middle;\n",
       "    }\n",
       "\n",
       "    .dataframe tbody tr th {\n",
       "        vertical-align: top;\n",
       "    }\n",
       "\n",
       "    .dataframe thead th {\n",
       "        text-align: right;\n",
       "    }\n",
       "</style>\n",
       "<table border=\"1\" class=\"dataframe\">\n",
       "  <thead>\n",
       "    <tr style=\"text-align: right;\">\n",
       "      <th></th>\n",
       "      <th>000</th>\n",
       "      <th>001</th>\n",
       "      <th>010</th>\n",
       "      <th>011</th>\n",
       "      <th>100</th>\n",
       "      <th>101</th>\n",
       "      <th>110</th>\n",
       "      <th>111</th>\n",
       "    </tr>\n",
       "  </thead>\n",
       "  <tbody>\n",
       "    <tr>\n",
       "      <th>000</th>\n",
       "      <td>1.0</td>\n",
       "      <td></td>\n",
       "      <td></td>\n",
       "      <td></td>\n",
       "      <td></td>\n",
       "      <td></td>\n",
       "      <td></td>\n",
       "      <td></td>\n",
       "    </tr>\n",
       "    <tr>\n",
       "      <th>001</th>\n",
       "      <td></td>\n",
       "      <td>1.0</td>\n",
       "      <td></td>\n",
       "      <td></td>\n",
       "      <td></td>\n",
       "      <td></td>\n",
       "      <td></td>\n",
       "      <td></td>\n",
       "    </tr>\n",
       "    <tr>\n",
       "      <th>010</th>\n",
       "      <td></td>\n",
       "      <td></td>\n",
       "      <td>1.0</td>\n",
       "      <td></td>\n",
       "      <td></td>\n",
       "      <td></td>\n",
       "      <td></td>\n",
       "      <td></td>\n",
       "    </tr>\n",
       "    <tr>\n",
       "      <th>011</th>\n",
       "      <td></td>\n",
       "      <td></td>\n",
       "      <td></td>\n",
       "      <td>1.0|-180</td>\n",
       "      <td></td>\n",
       "      <td></td>\n",
       "      <td></td>\n",
       "      <td></td>\n",
       "    </tr>\n",
       "    <tr>\n",
       "      <th>100</th>\n",
       "      <td></td>\n",
       "      <td></td>\n",
       "      <td></td>\n",
       "      <td></td>\n",
       "      <td>1.0</td>\n",
       "      <td></td>\n",
       "      <td></td>\n",
       "      <td></td>\n",
       "    </tr>\n",
       "    <tr>\n",
       "      <th>101</th>\n",
       "      <td></td>\n",
       "      <td></td>\n",
       "      <td></td>\n",
       "      <td></td>\n",
       "      <td></td>\n",
       "      <td>1.0</td>\n",
       "      <td></td>\n",
       "      <td></td>\n",
       "    </tr>\n",
       "    <tr>\n",
       "      <th>110</th>\n",
       "      <td></td>\n",
       "      <td></td>\n",
       "      <td></td>\n",
       "      <td></td>\n",
       "      <td></td>\n",
       "      <td></td>\n",
       "      <td>1.0</td>\n",
       "      <td></td>\n",
       "    </tr>\n",
       "    <tr>\n",
       "      <th>111</th>\n",
       "      <td></td>\n",
       "      <td></td>\n",
       "      <td></td>\n",
       "      <td></td>\n",
       "      <td></td>\n",
       "      <td></td>\n",
       "      <td></td>\n",
       "      <td>1.0</td>\n",
       "    </tr>\n",
       "  </tbody>\n",
       "</table>\n",
       "</div>"
      ],
      "text/plain": [
       "     000  001  010       011  100  101  110  111\n",
       "000  1.0                                        \n",
       "001       1.0                                   \n",
       "010            1.0                              \n",
       "011                 1.0|-180                    \n",
       "100                           1.0               \n",
       "101                                1.0          \n",
       "110                                     1.0     \n",
       "111                                          1.0"
      ]
     },
     "execution_count": 10,
     "metadata": {},
     "output_type": "execute_result"
    }
   ],
   "source": [
    "blackbox_matrix = dot(*blackbox_gate.propagators())\n",
    "# paresGateMatrix(blackbox_matrix)\n",
    "paresGateMatrixPd(blackbox_matrix)"
   ]
  },
  {
   "cell_type": "code",
   "execution_count": 21,
   "metadata": {},
   "outputs": [
    {
     "data": {
      "text/latex": [
       "Quantum object: dims = [[8], [8]], shape = (8, 8), type = oper, isherm = True\\begin{equation*}\\left(\\begin{array}{*{11}c}1.0 & 0.0 & 0.0 & 0.0 & 0.0 & 0.0 & 0.0 & 0.0\\\\0.0 & 1.0 & 0.0 & 0.0 & 0.0 & 0.0 & 0.0 & 0.0\\\\0.0 & 0.0 & 1.0 & 0.0 & 0.0 & 0.0 & 0.0 & 0.0\\\\0.0 & 0.0 & 0.0 & -1.0 & 0.0 & 0.0 & 0.0 & 0.0\\\\0.0 & 0.0 & 0.0 & 0.0 & 1.0 & 0.0 & 0.0 & 0.0\\\\0.0 & 0.0 & 0.0 & 0.0 & 0.0 & 1.0 & 0.0 & 0.0\\\\0.0 & 0.0 & 0.0 & 0.0 & 0.0 & 0.0 & 1.0 & 0.0\\\\0.0 & 0.0 & 0.0 & 0.0 & 0.0 & 0.0 & 0.0 & 1.0\\\\\\end{array}\\right)\\end{equation*}"
      ],
      "text/plain": [
       "Quantum object: dims = [[8], [8]], shape = (8, 8), type = oper, isherm = True\n",
       "Qobj data =\n",
       "[[ 1.  0.  0.  0.  0.  0.  0.  0.]\n",
       " [ 0.  1.  0.  0.  0.  0.  0.  0.]\n",
       " [ 0.  0.  1.  0.  0.  0.  0.  0.]\n",
       " [ 0.  0.  0. -1.  0.  0.  0.  0.]\n",
       " [ 0.  0.  0.  0.  1.  0.  0.  0.]\n",
       " [ 0.  0.  0.  0.  0.  1.  0.  0.]\n",
       " [ 0.  0.  0.  0.  0.  0.  1.  0.]\n",
       " [ 0.  0.  0.  0.  0.  0.  0.  1.]]"
      ]
     },
     "execution_count": 21,
     "metadata": {},
     "output_type": "execute_result"
    }
   ],
   "source": [
    "blackbox_matrix"
   ]
  },
  {
   "cell_type": "code",
   "execution_count": 11,
   "metadata": {
    "scrolled": true
   },
   "outputs": [
    {
     "data": {
      "text/html": [
       "<div>\n",
       "<style scoped>\n",
       "    .dataframe tbody tr th:only-of-type {\n",
       "        vertical-align: middle;\n",
       "    }\n",
       "\n",
       "    .dataframe tbody tr th {\n",
       "        vertical-align: top;\n",
       "    }\n",
       "\n",
       "    .dataframe thead th {\n",
       "        text-align: right;\n",
       "    }\n",
       "</style>\n",
       "<table border=\"1\" class=\"dataframe\">\n",
       "  <thead>\n",
       "    <tr style=\"text-align: right;\">\n",
       "      <th></th>\n",
       "      <th>000</th>\n",
       "      <th>001</th>\n",
       "      <th>010</th>\n",
       "      <th>011</th>\n",
       "      <th>100</th>\n",
       "      <th>101</th>\n",
       "      <th>110</th>\n",
       "      <th>111</th>\n",
       "    </tr>\n",
       "  </thead>\n",
       "  <tbody>\n",
       "    <tr>\n",
       "      <th>state</th>\n",
       "      <td>0.35</td>\n",
       "      <td>0.35</td>\n",
       "      <td>0.35</td>\n",
       "      <td>0.35|-180</td>\n",
       "      <td>0.35</td>\n",
       "      <td>0.35</td>\n",
       "      <td>0.35</td>\n",
       "      <td>0.35</td>\n",
       "    </tr>\n",
       "  </tbody>\n",
       "</table>\n",
       "</div>"
      ],
      "text/plain": [
       "        000   001   010        011   100   101   110   111\n",
       "state  0.35  0.35  0.35  0.35|-180  0.35  0.35  0.35  0.35"
      ]
     },
     "execution_count": 11,
     "metadata": {},
     "output_type": "execute_result"
    }
   ],
   "source": [
    "state2 = dot(blackbox_matrix,state1)\n",
    "parseStateVecPd(state2)"
   ]
  },
  {
   "cell_type": "code",
   "execution_count": 23,
   "metadata": {},
   "outputs": [
    {
     "data": {
      "text/latex": [
       "Quantum object: dims = [[8], [1]], shape = (8, 1), type = ket\\begin{equation*}\\left(\\begin{array}{*{11}c}0.354\\\\0.354\\\\0.354\\\\-0.354\\\\0.354\\\\0.354\\\\0.354\\\\0.354\\\\\\end{array}\\right)\\end{equation*}"
      ],
      "text/plain": [
       "Quantum object: dims = [[8], [1]], shape = (8, 1), type = ket\n",
       "Qobj data =\n",
       "[[ 0.35355339]\n",
       " [ 0.35355339]\n",
       " [ 0.35355339]\n",
       " [-0.35355339]\n",
       " [ 0.35355339]\n",
       " [ 0.35355339]\n",
       " [ 0.35355339]\n",
       " [ 0.35355339]]"
      ]
     },
     "execution_count": 23,
     "metadata": {},
     "output_type": "execute_result"
    }
   ],
   "source": [
    "state2"
   ]
  },
  {
   "cell_type": "code",
   "execution_count": 12,
   "metadata": {
    "scrolled": true
   },
   "outputs": [
    {
     "data": {
      "text/html": [
       "<div>\n",
       "<style scoped>\n",
       "    .dataframe tbody tr th:only-of-type {\n",
       "        vertical-align: middle;\n",
       "    }\n",
       "\n",
       "    .dataframe tbody tr th {\n",
       "        vertical-align: top;\n",
       "    }\n",
       "\n",
       "    .dataframe thead th {\n",
       "        text-align: right;\n",
       "    }\n",
       "</style>\n",
       "<table border=\"1\" class=\"dataframe\">\n",
       "  <thead>\n",
       "    <tr style=\"text-align: right;\">\n",
       "      <th></th>\n",
       "      <th>000</th>\n",
       "      <th>001</th>\n",
       "      <th>010</th>\n",
       "      <th>011</th>\n",
       "      <th>100</th>\n",
       "      <th>101</th>\n",
       "      <th>110</th>\n",
       "      <th>111</th>\n",
       "    </tr>\n",
       "  </thead>\n",
       "  <tbody>\n",
       "    <tr>\n",
       "      <th>000</th>\n",
       "      <td>0.75|180</td>\n",
       "      <td>0.25</td>\n",
       "      <td>0.25</td>\n",
       "      <td>0.25</td>\n",
       "      <td>0.25</td>\n",
       "      <td>0.25</td>\n",
       "      <td>0.25</td>\n",
       "      <td>0.25</td>\n",
       "    </tr>\n",
       "    <tr>\n",
       "      <th>001</th>\n",
       "      <td>0.25</td>\n",
       "      <td>0.75|180</td>\n",
       "      <td>0.25</td>\n",
       "      <td>0.25</td>\n",
       "      <td>0.25</td>\n",
       "      <td>0.25</td>\n",
       "      <td>0.25</td>\n",
       "      <td>0.25</td>\n",
       "    </tr>\n",
       "    <tr>\n",
       "      <th>010</th>\n",
       "      <td>0.25</td>\n",
       "      <td>0.25</td>\n",
       "      <td>0.75|180</td>\n",
       "      <td>0.25</td>\n",
       "      <td>0.25</td>\n",
       "      <td>0.25</td>\n",
       "      <td>0.25</td>\n",
       "      <td>0.25</td>\n",
       "    </tr>\n",
       "    <tr>\n",
       "      <th>011</th>\n",
       "      <td>0.25</td>\n",
       "      <td>0.25</td>\n",
       "      <td>0.25</td>\n",
       "      <td>0.75|180</td>\n",
       "      <td>0.25</td>\n",
       "      <td>0.25</td>\n",
       "      <td>0.25</td>\n",
       "      <td>0.25</td>\n",
       "    </tr>\n",
       "    <tr>\n",
       "      <th>100</th>\n",
       "      <td>0.25</td>\n",
       "      <td>0.25</td>\n",
       "      <td>0.25</td>\n",
       "      <td>0.25</td>\n",
       "      <td>0.75|180</td>\n",
       "      <td>0.25</td>\n",
       "      <td>0.25</td>\n",
       "      <td>0.25</td>\n",
       "    </tr>\n",
       "    <tr>\n",
       "      <th>101</th>\n",
       "      <td>0.25</td>\n",
       "      <td>0.25</td>\n",
       "      <td>0.25</td>\n",
       "      <td>0.25</td>\n",
       "      <td>0.25</td>\n",
       "      <td>0.75|180</td>\n",
       "      <td>0.25</td>\n",
       "      <td>0.25</td>\n",
       "    </tr>\n",
       "    <tr>\n",
       "      <th>110</th>\n",
       "      <td>0.25</td>\n",
       "      <td>0.25</td>\n",
       "      <td>0.25</td>\n",
       "      <td>0.25</td>\n",
       "      <td>0.25</td>\n",
       "      <td>0.25</td>\n",
       "      <td>0.75|180</td>\n",
       "      <td>0.25</td>\n",
       "    </tr>\n",
       "    <tr>\n",
       "      <th>111</th>\n",
       "      <td>0.25</td>\n",
       "      <td>0.25</td>\n",
       "      <td>0.25</td>\n",
       "      <td>0.25</td>\n",
       "      <td>0.25</td>\n",
       "      <td>0.25</td>\n",
       "      <td>0.25</td>\n",
       "      <td>0.75|180</td>\n",
       "    </tr>\n",
       "  </tbody>\n",
       "</table>\n",
       "</div>"
      ],
      "text/plain": [
       "          000       001       010       011       100       101       110  \\\n",
       "000  0.75|180      0.25      0.25      0.25      0.25      0.25      0.25   \n",
       "001      0.25  0.75|180      0.25      0.25      0.25      0.25      0.25   \n",
       "010      0.25      0.25  0.75|180      0.25      0.25      0.25      0.25   \n",
       "011      0.25      0.25      0.25  0.75|180      0.25      0.25      0.25   \n",
       "100      0.25      0.25      0.25      0.25  0.75|180      0.25      0.25   \n",
       "101      0.25      0.25      0.25      0.25      0.25  0.75|180      0.25   \n",
       "110      0.25      0.25      0.25      0.25      0.25      0.25  0.75|180   \n",
       "111      0.25      0.25      0.25      0.25      0.25      0.25      0.25   \n",
       "\n",
       "          111  \n",
       "000      0.25  \n",
       "001      0.25  \n",
       "010      0.25  \n",
       "011      0.25  \n",
       "100      0.25  \n",
       "101      0.25  \n",
       "110      0.25  \n",
       "111  0.75|180  "
      ]
     },
     "execution_count": 12,
     "metadata": {},
     "output_type": "execute_result"
    }
   ],
   "source": [
    "grover_matrix = dot(*grover_gate.propagators())\n",
    "paresGateMatrixPd(grover_matrix, 180)"
   ]
  },
  {
   "cell_type": "code",
   "execution_count": 22,
   "metadata": {},
   "outputs": [
    {
     "data": {
      "text/latex": [
       "Quantum object: dims = [[8], [8]], shape = (8, 8), type = oper, isherm = True\\begin{equation*}\\left(\\begin{array}{*{11}c}0.750 & -0.250 & -0.250 & -0.250 & -0.250 & -0.250 & -0.250 & -0.250\\\\-0.250 & 0.750 & -0.250 & -0.250 & -0.250 & -0.250 & -0.250 & -0.250\\\\-0.250 & -0.250 & 0.750 & -0.250 & -0.250 & -0.250 & -0.250 & -0.250\\\\-0.250 & -0.250 & -0.250 & 0.750 & -0.250 & -0.250 & -0.250 & -0.250\\\\-0.250 & -0.250 & -0.250 & -0.250 & 0.750 & -0.250 & -0.250 & -0.250\\\\-0.250 & -0.250 & -0.250 & -0.250 & -0.250 & 0.750 & -0.250 & -0.250\\\\-0.250 & -0.250 & -0.250 & -0.250 & -0.250 & -0.250 & 0.750 & -0.250\\\\-0.250 & -0.250 & -0.250 & -0.250 & -0.250 & -0.250 & -0.250 & 0.750\\\\\\end{array}\\right)\\end{equation*}"
      ],
      "text/plain": [
       "Quantum object: dims = [[8], [8]], shape = (8, 8), type = oper, isherm = True\n",
       "Qobj data =\n",
       "[[ 0.75 -0.25 -0.25 -0.25 -0.25 -0.25 -0.25 -0.25]\n",
       " [-0.25  0.75 -0.25 -0.25 -0.25 -0.25 -0.25 -0.25]\n",
       " [-0.25 -0.25  0.75 -0.25 -0.25 -0.25 -0.25 -0.25]\n",
       " [-0.25 -0.25 -0.25  0.75 -0.25 -0.25 -0.25 -0.25]\n",
       " [-0.25 -0.25 -0.25 -0.25  0.75 -0.25 -0.25 -0.25]\n",
       " [-0.25 -0.25 -0.25 -0.25 -0.25  0.75 -0.25 -0.25]\n",
       " [-0.25 -0.25 -0.25 -0.25 -0.25 -0.25  0.75 -0.25]\n",
       " [-0.25 -0.25 -0.25 -0.25 -0.25 -0.25 -0.25  0.75]]"
      ]
     },
     "execution_count": 22,
     "metadata": {},
     "output_type": "execute_result"
    }
   ],
   "source": [
    "grover_matrix"
   ]
  },
  {
   "cell_type": "code",
   "execution_count": 13,
   "metadata": {
    "scrolled": false
   },
   "outputs": [
    {
     "data": {
      "text/html": [
       "<div>\n",
       "<style scoped>\n",
       "    .dataframe tbody tr th:only-of-type {\n",
       "        vertical-align: middle;\n",
       "    }\n",
       "\n",
       "    .dataframe tbody tr th {\n",
       "        vertical-align: top;\n",
       "    }\n",
       "\n",
       "    .dataframe thead th {\n",
       "        text-align: right;\n",
       "    }\n",
       "</style>\n",
       "<table border=\"1\" class=\"dataframe\">\n",
       "  <thead>\n",
       "    <tr style=\"text-align: right;\">\n",
       "      <th></th>\n",
       "      <th>000</th>\n",
       "      <th>001</th>\n",
       "      <th>010</th>\n",
       "      <th>011</th>\n",
       "      <th>100</th>\n",
       "      <th>101</th>\n",
       "      <th>110</th>\n",
       "      <th>111</th>\n",
       "    </tr>\n",
       "  </thead>\n",
       "  <tbody>\n",
       "    <tr>\n",
       "      <th>state</th>\n",
       "      <td>0.18</td>\n",
       "      <td>0.18</td>\n",
       "      <td>0.18</td>\n",
       "      <td>0.88</td>\n",
       "      <td>0.18</td>\n",
       "      <td>0.18</td>\n",
       "      <td>0.18</td>\n",
       "      <td>0.18</td>\n",
       "    </tr>\n",
       "  </tbody>\n",
       "</table>\n",
       "</div>"
      ],
      "text/plain": [
       "        000   001   010   011   100   101   110   111\n",
       "state  0.18  0.18  0.18  0.88  0.18  0.18  0.18  0.18"
      ]
     },
     "execution_count": 13,
     "metadata": {},
     "output_type": "execute_result"
    }
   ],
   "source": [
    "state3 = dot(grover_matrix,state2)\n",
    "parseStateVecPd(state3, 180)"
   ]
  },
  {
   "cell_type": "markdown",
   "metadata": {},
   "source": [
    "# 演化: 门电路 + 输入"
   ]
  },
  {
   "cell_type": "markdown",
   "metadata": {},
   "source": [
    "#  注意下幅角180实部为-, 幂指数不适合表示加法是困难的"
   ]
  },
  {
   "cell_type": "markdown",
   "metadata": {},
   "source": [
    "# 问题1: 如何计算一个适合表示的global phase"
   ]
  },
  {
   "cell_type": "markdown",
   "metadata": {},
   "source": [
    "# 问题2: 稀疏矩阵表示"
   ]
  },
  {
   "cell_type": "code",
   "execution_count": 15,
   "metadata": {
    "scrolled": true
   },
   "outputs": [],
   "source": [
    "# 测试一下ccphase\n",
    "# ccphase_m = ccphase({'qubit_num': qubit_num, 'rotation': 30})\n",
    "# ccphase_m  #isherm是个很难搞，先不管了\n",
    "# paresGateMatrix(ccphase_m) #cphase 只有全为1的时候才会转"
   ]
  },
  {
   "cell_type": "code",
   "execution_count": 16,
   "metadata": {
    "scrolled": true
   },
   "outputs": [],
   "source": [
    "# qc.resolve_gates(\"CNOT\").png  #NotImplementedError: Gate CCPHASE cannot be resolved."
   ]
  },
  {
   "cell_type": "code",
   "execution_count": 17,
   "metadata": {
    "scrolled": false
   },
   "outputs": [
    {
     "name": "stdout",
     "output_type": "stream",
     "text": [
      "000\t001\t010\t011\t100\t101\t110\t111\t\n",
      "1.0|-90\t0\t0\t0\t0\t0\t0\t0\t000\n",
      "0\t1.0|-30\t0\t0\t0\t0\t0\t0\t001\n",
      "0\t0\t1.0|-30\t0\t0\t0\t0\t0\t010\n",
      "0\t0\t0\t1.0|30\t0\t0\t0\t0\t011\n",
      "0\t0\t0\t0\t1.0|-30\t0\t0\t0\t100\n",
      "0\t0\t0\t0\t0\t1.0|30\t0\t0\t101\n",
      "0\t0\t0\t0\t0\t0\t1.0|30\t0\t110\n",
      "0\t0\t0\t0\t0\t0\t0\t1.0|90\t111\n"
     ]
    }
   ],
   "source": [
    "paresGateMatrix(tensor(rz(pi/3), rz(pi/3), rz(pi/3)))"
   ]
  },
  {
   "cell_type": "markdown",
   "metadata": {},
   "source": [
    "# 其他"
   ]
  },
  {
   "cell_type": "code",
   "execution_count": 18,
   "metadata": {},
   "outputs": [
    {
     "data": {
      "text/latex": [
       "Quantum object: dims = [[2, 2, 2], [2, 2, 2]], shape = (8, 8), type = oper, isherm = False\\begin{equation*}\\left(\\begin{array}{*{11}c}-1.0j & 0.0 & 0.0 & 0.0 & 0.0 & 0.0 & 0.0 & 0.0\\\\0.0 & (0.866-0.500j) & 0.0 & 0.0 & 0.0 & 0.0 & 0.0 & 0.0\\\\0.0 & 0.0 & (0.866-0.500j) & 0.0 & 0.0 & 0.0 & 0.0 & 0.0\\\\0.0 & 0.0 & 0.0 & (0.866+0.500j) & 0.0 & 0.0 & 0.0 & 0.0\\\\0.0 & 0.0 & 0.0 & 0.0 & (0.866-0.500j) & 0.0 & 0.0 & 0.0\\\\0.0 & 0.0 & 0.0 & 0.0 & 0.0 & (0.866+0.500j) & 0.0 & 0.0\\\\0.0 & 0.0 & 0.0 & 0.0 & 0.0 & 0.0 & (0.866+0.500j) & 0.0\\\\0.0 & 0.0 & 0.0 & 0.0 & 0.0 & 0.0 & 0.0 & 1.0j\\\\\\end{array}\\right)\\end{equation*}"
      ],
      "text/plain": [
       "Quantum object: dims = [[2, 2, 2], [2, 2, 2]], shape = (8, 8), type = oper, isherm = False\n",
       "Qobj data =\n",
       "[[0.       -1.j  0.       +0.j  0.       +0.j  0.       +0.j\n",
       "  0.       +0.j  0.       +0.j  0.       +0.j  0.       +0.j ]\n",
       " [0.       +0.j  0.8660254-0.5j 0.       +0.j  0.       +0.j\n",
       "  0.       +0.j  0.       +0.j  0.       +0.j  0.       +0.j ]\n",
       " [0.       +0.j  0.       +0.j  0.8660254-0.5j 0.       +0.j\n",
       "  0.       +0.j  0.       +0.j  0.       +0.j  0.       +0.j ]\n",
       " [0.       +0.j  0.       +0.j  0.       +0.j  0.8660254+0.5j\n",
       "  0.       +0.j  0.       +0.j  0.       +0.j  0.       +0.j ]\n",
       " [0.       +0.j  0.       +0.j  0.       +0.j  0.       +0.j\n",
       "  0.8660254-0.5j 0.       +0.j  0.       +0.j  0.       +0.j ]\n",
       " [0.       +0.j  0.       +0.j  0.       +0.j  0.       +0.j\n",
       "  0.       +0.j  0.8660254+0.5j 0.       +0.j  0.       +0.j ]\n",
       " [0.       +0.j  0.       +0.j  0.       +0.j  0.       +0.j\n",
       "  0.       +0.j  0.       +0.j  0.8660254+0.5j 0.       +0.j ]\n",
       " [0.       +0.j  0.       +0.j  0.       +0.j  0.       +0.j\n",
       "  0.       +0.j  0.       +0.j  0.       +0.j  0.       +1.j ]]"
      ]
     },
     "execution_count": 18,
     "metadata": {},
     "output_type": "execute_result"
    }
   ],
   "source": [
    "tensor(rz(pi/3), rz(pi/3), rz(pi/3))\n",
    "# 不重叠的门可以互相做"
   ]
  },
  {
   "cell_type": "code",
   "execution_count": 19,
   "metadata": {},
   "outputs": [
    {
     "name": "stdout",
     "output_type": "stream",
     "text": [
      "000\t001\t010\t011\t100\t101\t110\t111\t\n",
      "1.0|-90\t0\t0\t0\t0\t0\t0\t0\t000\n",
      "0\t1.0|-30\t0\t0\t0\t0\t0\t0\t001\n",
      "0\t0\t1.0|-30\t0\t0\t0\t0\t0\t010\n",
      "0\t0\t0\t1.0|30\t0\t0\t0\t0\t011\n",
      "0\t0\t0\t0\t1.0|-30\t0\t0\t0\t100\n",
      "0\t0\t0\t0\t0\t1.0|30\t0\t0\t101\n",
      "0\t0\t0\t0\t0\t0\t1.0|30\t0\t110\n",
      "0\t0\t0\t0\t0\t0\t0\t1.0|90\t111\n"
     ]
    }
   ],
   "source": [
    "qc1 = QubitCircuit(3, reverse_states=False)\n",
    "for i in range(3):\n",
    "    qc1.add_gate('RZ', targets=[i], arg_value=pi/3)\n",
    "qc1.png\n",
    "paresGateMatrix(dot(*qc1.propagators()))"
   ]
  },
  {
   "cell_type": "code",
   "execution_count": 20,
   "metadata": {},
   "outputs": [
    {
     "data": {
      "text/latex": [
       "Quantum object: dims = [[2], [2]], shape = (2, 2), type = oper, isherm = True\\begin{equation*}\\left(\\begin{array}{*{11}c}0.0 & 1.0\\\\1.0 & 0.0\\\\\\end{array}\\right)\\end{equation*}"
      ],
      "text/plain": [
       "Quantum object: dims = [[2], [2]], shape = (2, 2), type = oper, isherm = True\n",
       "Qobj data =\n",
       "[[0. 1.]\n",
       " [1. 0.]]"
      ]
     },
     "execution_count": 20,
     "metadata": {},
     "output_type": "execute_result"
    }
   ],
   "source": [
    "dot(sqrtnot(),sqrtnot())"
   ]
  },
  {
   "cell_type": "code",
   "execution_count": 24,
   "metadata": {},
   "outputs": [],
   "source": [
    "a = 1 + 1j\n",
    "b = 1 + 2j"
   ]
  },
  {
   "cell_type": "code",
   "execution_count": null,
   "metadata": {},
   "outputs": [],
   "source": []
  }
 ],
 "metadata": {
  "kernelspec": {
   "display_name": "py36",
   "language": "python",
   "name": "py36"
  },
  "language_info": {
   "codemirror_mode": {
    "name": "ipython",
    "version": 3
   },
   "file_extension": ".py",
   "mimetype": "text/x-python",
   "name": "python",
   "nbconvert_exporter": "python",
   "pygments_lexer": "ipython3",
   "version": "3.6.9"
  }
 },
 "nbformat": 4,
 "nbformat_minor": 2
}
