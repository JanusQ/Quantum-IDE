{
 "cells": [
  {
   "cell_type": "markdown",
   "metadata": {},
   "source": [
    "# Quantum Fourier Transformation"
   ]
  },
  {
   "cell_type": "code",
   "execution_count": 1,
   "metadata": {},
   "outputs": [],
   "source": [
    "%matplotlib inline\n",
    "from IPython.display import Image\n",
    "from numpy import pi\n",
    "import numpy as np\n",
    "from qutip import *\n",
    "from qutip.qip.operations import *\n",
    "from qutip.qip.circuit import QubitCircuit, Gate\n",
    "import math\n",
    "from math import sin, cos"
   ]
  },
  {
   "cell_type": "code",
   "execution_count": 2,
   "metadata": {},
   "outputs": [],
   "source": [
    "import sys\n",
    "sys.path.append('..')\n",
    "sys.path.append('../library')\n",
    "from library.my_quantum_tool import *\n",
    "from library.my_gate import ccphase, pauli_x, ncnot"
   ]
  },
  {
   "cell_type": "code",
   "execution_count": 3,
   "metadata": {},
   "outputs": [],
   "source": [
    "qubit_num = 3\n",
    "reverse_states = False"
   ]
  },
  {
   "cell_type": "code",
   "execution_count": 4,
   "metadata": {},
   "outputs": [
    {
     "data": {
      "text/html": [
       "<div>\n",
       "<style scoped>\n",
       "    .dataframe tbody tr th:only-of-type {\n",
       "        vertical-align: middle;\n",
       "    }\n",
       "\n",
       "    .dataframe tbody tr th {\n",
       "        vertical-align: top;\n",
       "    }\n",
       "\n",
       "    .dataframe thead th {\n",
       "        text-align: right;\n",
       "    }\n",
       "</style>\n",
       "<table border=\"1\" class=\"dataframe\">\n",
       "  <thead>\n",
       "    <tr style=\"text-align: right;\">\n",
       "      <th></th>\n",
       "      <th>000</th>\n",
       "      <th>001</th>\n",
       "      <th>010</th>\n",
       "      <th>011</th>\n",
       "      <th>100</th>\n",
       "      <th>101</th>\n",
       "      <th>110</th>\n",
       "      <th>111</th>\n",
       "    </tr>\n",
       "  </thead>\n",
       "  <tbody>\n",
       "    <tr>\n",
       "      <th>state</th>\n",
       "      <td></td>\n",
       "      <td></td>\n",
       "      <td>1.0</td>\n",
       "      <td></td>\n",
       "      <td></td>\n",
       "      <td></td>\n",
       "      <td></td>\n",
       "      <td></td>\n",
       "    </tr>\n",
       "  </tbody>\n",
       "</table>\n",
       "</div>"
      ],
      "text/plain": [
       "      000 001  010 011 100 101 110 111\n",
       "state          1.0                    "
      ]
     },
     "execution_count": 4,
     "metadata": {},
     "output_type": "execute_result"
    }
   ],
   "source": [
    "inital_state = InitializedState('010')  # 这个表示的是3, 001代表的是1, 及电路最上面那个是1\n",
    "parseStateVecPd(inital_state)"
   ]
  },
  {
   "cell_type": "code",
   "execution_count": null,
   "metadata": {},
   "outputs": [],
   "source": []
  },
  {
   "cell_type": "code",
   "execution_count": 5,
   "metadata": {},
   "outputs": [],
   "source": [
    "inital_state?"
   ]
  },
  {
   "cell_type": "code",
   "execution_count": 6,
   "metadata": {},
   "outputs": [
    {
     "data": {
      "image/png": "[encoded data removed]",
      "text/plain": [
       "<IPython.core.display.Image object>"
      ]
     },
     "execution_count": 6,
     "metadata": {},
     "output_type": "execute_result"
    }
   ],
   "source": [
    "def invQFT():\n",
    "    qc = QubitCircuit(qubit_num, reverse_states=False)\n",
    "    qc.add_gate('SWAP', targets=[0, qubit_num-1])\n",
    "    \n",
    "    for qubit1 in range(qubit_num-1, -1, -1):\n",
    "        qc.add_gate('SNOT', targets=[qubit1])\n",
    "        for qubit2 in range(qubit1-1, -1, -1):\n",
    "            index = abs(qubit2 - qubit1)\n",
    "            index = 2 ** index\n",
    "            qc.add_gate('CPHASE', controls=[qubit1], targets=[qubit2], arg_value=pi/(index), arg_label=r'\\frac{\\pi}{'+f'{index}' + r'}')\n",
    "    return qc\n",
    "invqft_gates = invQFT()\n",
    "invqft_gates.png"
   ]
  },
  {
   "cell_type": "code",
   "execution_count": 7,
   "metadata": {},
   "outputs": [],
   "source": [
    "# def invQFT():\n",
    "#     qc = QubitCircuit(qubit_num, reverse_states=reverse_states)\n",
    "#     qc.add_gate('SWAP', targets=[0, qubit_num-1])\n",
    "    \n",
    "#     for qubit1 in range(0, qubit_num):\n",
    "#         qc.add_gate('SNOT', targets=[qubit1])\n",
    "#         for qubit2 in range(qubit1+1, qubit_num):\n",
    "#             index = abs(qubit2 - qubit1)\n",
    "#             index = 2 ** index\n",
    "#             qc.add_gate('CPHASE', controls=[qubit1], targets=[qubit2], arg_value=pi/(index), arg_label=r'\\frac{\\pi}{'+f'{index}' + r'}')\n",
    "#     return qc\n",
    "# invqft_gates = invQFT()\n",
    "# invqft_gates.png"
   ]
  },
  {
   "cell_type": "markdown",
   "metadata": {},
   "source": [
    "相对于qc engine, 上面的在前0，下面的在后qubit_num\n",
    "0x1  0x2  0x4  0x8"
   ]
  },
  {
   "cell_type": "code",
   "execution_count": 8,
   "metadata": {},
   "outputs": [
    {
     "data": {
      "text/html": [
       "<div>\n",
       "<style scoped>\n",
       "    .dataframe tbody tr th:only-of-type {\n",
       "        vertical-align: middle;\n",
       "    }\n",
       "\n",
       "    .dataframe tbody tr th {\n",
       "        vertical-align: top;\n",
       "    }\n",
       "\n",
       "    .dataframe thead th {\n",
       "        text-align: right;\n",
       "    }\n",
       "</style>\n",
       "<table border=\"1\" class=\"dataframe\">\n",
       "  <thead>\n",
       "    <tr style=\"text-align: right;\">\n",
       "      <th></th>\n",
       "      <th>000</th>\n",
       "      <th>001</th>\n",
       "      <th>010</th>\n",
       "      <th>011</th>\n",
       "      <th>100</th>\n",
       "      <th>101</th>\n",
       "      <th>110</th>\n",
       "      <th>111</th>\n",
       "    </tr>\n",
       "  </thead>\n",
       "  <tbody>\n",
       "    <tr>\n",
       "      <th>000</th>\n",
       "      <td>0.35</td>\n",
       "      <td>0.35</td>\n",
       "      <td>0.35</td>\n",
       "      <td>0.35</td>\n",
       "      <td>0.35</td>\n",
       "      <td>0.35</td>\n",
       "      <td>0.35</td>\n",
       "      <td>0.35</td>\n",
       "    </tr>\n",
       "    <tr>\n",
       "      <th>001</th>\n",
       "      <td>0.35</td>\n",
       "      <td>0.35|45</td>\n",
       "      <td>0.35|90</td>\n",
       "      <td>0.35|135</td>\n",
       "      <td>0.35|-180</td>\n",
       "      <td>0.35|-135</td>\n",
       "      <td>0.35|-90</td>\n",
       "      <td>0.35|-45</td>\n",
       "    </tr>\n",
       "    <tr>\n",
       "      <th>010</th>\n",
       "      <td>0.35</td>\n",
       "      <td>0.35|90</td>\n",
       "      <td>0.35|-180</td>\n",
       "      <td>0.35|-90</td>\n",
       "      <td>0.35</td>\n",
       "      <td>0.35|90</td>\n",
       "      <td>0.35|-180</td>\n",
       "      <td>0.35|-90</td>\n",
       "    </tr>\n",
       "    <tr>\n",
       "      <th>011</th>\n",
       "      <td>0.35</td>\n",
       "      <td>0.35|135</td>\n",
       "      <td>0.35|-90</td>\n",
       "      <td>0.35|45</td>\n",
       "      <td>0.35|-180</td>\n",
       "      <td>0.35|-45</td>\n",
       "      <td>0.35|90</td>\n",
       "      <td>0.35|-135</td>\n",
       "    </tr>\n",
       "    <tr>\n",
       "      <th>100</th>\n",
       "      <td>0.35</td>\n",
       "      <td>0.35|-180</td>\n",
       "      <td>0.35</td>\n",
       "      <td>0.35|-180</td>\n",
       "      <td>0.35</td>\n",
       "      <td>0.35|-180</td>\n",
       "      <td>0.35</td>\n",
       "      <td>0.35|-180</td>\n",
       "    </tr>\n",
       "    <tr>\n",
       "      <th>101</th>\n",
       "      <td>0.35</td>\n",
       "      <td>0.35|-135</td>\n",
       "      <td>0.35|90</td>\n",
       "      <td>0.35|-45</td>\n",
       "      <td>0.35|-180</td>\n",
       "      <td>0.35|45</td>\n",
       "      <td>0.35|-90</td>\n",
       "      <td>0.35|135</td>\n",
       "    </tr>\n",
       "    <tr>\n",
       "      <th>110</th>\n",
       "      <td>0.35</td>\n",
       "      <td>0.35|-90</td>\n",
       "      <td>0.35|-180</td>\n",
       "      <td>0.35|90</td>\n",
       "      <td>0.35</td>\n",
       "      <td>0.35|-90</td>\n",
       "      <td>0.35|-180</td>\n",
       "      <td>0.35|90</td>\n",
       "    </tr>\n",
       "    <tr>\n",
       "      <th>111</th>\n",
       "      <td>0.35</td>\n",
       "      <td>0.35|-45</td>\n",
       "      <td>0.35|-90</td>\n",
       "      <td>0.35|-135</td>\n",
       "      <td>0.35|-180</td>\n",
       "      <td>0.35|135</td>\n",
       "      <td>0.35|90</td>\n",
       "      <td>0.35|45</td>\n",
       "    </tr>\n",
       "  </tbody>\n",
       "</table>\n",
       "</div>"
      ],
      "text/plain": [
       "      000        001        010        011        100        101        110  \\\n",
       "000  0.35       0.35       0.35       0.35       0.35       0.35       0.35   \n",
       "001  0.35    0.35|45    0.35|90   0.35|135  0.35|-180  0.35|-135   0.35|-90   \n",
       "010  0.35    0.35|90  0.35|-180   0.35|-90       0.35    0.35|90  0.35|-180   \n",
       "011  0.35   0.35|135   0.35|-90    0.35|45  0.35|-180   0.35|-45    0.35|90   \n",
       "100  0.35  0.35|-180       0.35  0.35|-180       0.35  0.35|-180       0.35   \n",
       "101  0.35  0.35|-135    0.35|90   0.35|-45  0.35|-180    0.35|45   0.35|-90   \n",
       "110  0.35   0.35|-90  0.35|-180    0.35|90       0.35   0.35|-90  0.35|-180   \n",
       "111  0.35   0.35|-45   0.35|-90  0.35|-135  0.35|-180   0.35|135    0.35|90   \n",
       "\n",
       "           111  \n",
       "000       0.35  \n",
       "001   0.35|-45  \n",
       "010   0.35|-90  \n",
       "011  0.35|-135  \n",
       "100  0.35|-180  \n",
       "101   0.35|135  \n",
       "110    0.35|90  \n",
       "111    0.35|45  "
      ]
     },
     "execution_count": 8,
     "metadata": {},
     "output_type": "execute_result"
    }
   ],
   "source": [
    "invqft_matrixs = invqft_gates.propagators()\n",
    "invqft_matrix = dot(*invqft_matrixs)\n",
    "paresGateMatrixPd(invqft_matrix)\n",
    "# 对于矩阵来说列标签(水平)是输入，行标签(竖直)是输出"
   ]
  },
  {
   "cell_type": "markdown",
   "metadata": {},
   "source": [
    "invQGT的每一列都对应了该输入生成的周期信号"
   ]
  },
  {
   "cell_type": "code",
   "execution_count": 9,
   "metadata": {},
   "outputs": [
    {
     "data": {
      "text/html": [
       "<div>\n",
       "<style scoped>\n",
       "    .dataframe tbody tr th:only-of-type {\n",
       "        vertical-align: middle;\n",
       "    }\n",
       "\n",
       "    .dataframe tbody tr th {\n",
       "        vertical-align: top;\n",
       "    }\n",
       "\n",
       "    .dataframe thead th {\n",
       "        text-align: right;\n",
       "    }\n",
       "</style>\n",
       "<table border=\"1\" class=\"dataframe\">\n",
       "  <thead>\n",
       "    <tr style=\"text-align: right;\">\n",
       "      <th></th>\n",
       "      <th>000</th>\n",
       "      <th>001</th>\n",
       "      <th>010</th>\n",
       "      <th>011</th>\n",
       "      <th>100</th>\n",
       "      <th>101</th>\n",
       "      <th>110</th>\n",
       "      <th>111</th>\n",
       "    </tr>\n",
       "  </thead>\n",
       "  <tbody>\n",
       "    <tr>\n",
       "      <th>state</th>\n",
       "      <td>0.35</td>\n",
       "      <td>0.35|90</td>\n",
       "      <td>0.35|-180</td>\n",
       "      <td>0.35|-90</td>\n",
       "      <td>0.35</td>\n",
       "      <td>0.35|90</td>\n",
       "      <td>0.35|-180</td>\n",
       "      <td>0.35|-90</td>\n",
       "    </tr>\n",
       "  </tbody>\n",
       "</table>\n",
       "</div>"
      ],
      "text/plain": [
       "        000      001        010       011   100      101        110       111\n",
       "state  0.35  0.35|90  0.35|-180  0.35|-90  0.35  0.35|90  0.35|-180  0.35|-90"
      ]
     },
     "execution_count": 9,
     "metadata": {},
     "output_type": "execute_result"
    }
   ],
   "source": [
    "# inv_qft_state = dot(invqft_matrix, inital_state)\n",
    "inv_qft_state = dot(invqft_matrix, inital_state)\n",
    "parseStateVecPd(inv_qft_state)"
   ]
  },
  {
   "cell_type": "code",
   "execution_count": 38,
   "metadata": {},
   "outputs": [
    {
     "data": {
      "text/latex": [
       "Quantum object: dims = [[8], [8]], shape = (8, 8), type = oper, isherm = True\\begin{equation*}\\left(\\begin{array}{*{11}c}0.125 & -0.125j & -0.125 & 0.125j & 0.125 & -0.125j & -0.125 & 0.125j\\\\0.125j & 0.125 & -0.125j & -0.125 & 0.125j & 0.125 & -0.125j & -0.125\\\\-0.125 & 0.125j & 0.125 & -0.125j & -0.125 & 0.125j & 0.125 & -0.125j\\\\-0.125j & -0.125 & 0.125j & 0.125 & -0.125j & -0.125 & 0.125j & 0.125\\\\0.125 & -0.125j & -0.125 & 0.125j & 0.125 & -0.125j & -0.125 & 0.125j\\\\0.125j & 0.125 & -0.125j & -0.125 & 0.125j & 0.125 & -0.125j & -0.125\\\\-0.125 & 0.125j & 0.125 & -0.125j & -0.125 & 0.125j & 0.125 & -0.125j\\\\-0.125j & -0.125 & 0.125j & 0.125 & -0.125j & -0.125 & 0.125j & 0.125\\\\\\end{array}\\right)\\end{equation*}"
      ],
      "text/plain": [
       "Quantum object: dims = [[8], [8]], shape = (8, 8), type = oper, isherm = True\n",
       "Qobj data =\n",
       "[[ 0.125+0.j     0.   -0.125j -0.125+0.j     0.   +0.125j  0.125+0.j\n",
       "   0.   -0.125j -0.125+0.j     0.   +0.125j]\n",
       " [ 0.   +0.125j  0.125+0.j     0.   -0.125j -0.125+0.j     0.   +0.125j\n",
       "   0.125+0.j     0.   -0.125j -0.125+0.j   ]\n",
       " [-0.125+0.j     0.   +0.125j  0.125+0.j     0.   -0.125j -0.125+0.j\n",
       "   0.   +0.125j  0.125+0.j     0.   -0.125j]\n",
       " [ 0.   -0.125j -0.125+0.j     0.   +0.125j  0.125+0.j     0.   -0.125j\n",
       "  -0.125+0.j     0.   +0.125j  0.125+0.j   ]\n",
       " [ 0.125+0.j     0.   -0.125j -0.125+0.j     0.   +0.125j  0.125+0.j\n",
       "   0.   -0.125j -0.125+0.j     0.   +0.125j]\n",
       " [ 0.   +0.125j  0.125+0.j     0.   -0.125j -0.125+0.j     0.   +0.125j\n",
       "   0.125+0.j     0.   -0.125j -0.125+0.j   ]\n",
       " [-0.125+0.j     0.   +0.125j  0.125+0.j     0.   -0.125j -0.125+0.j\n",
       "   0.   +0.125j  0.125+0.j     0.   -0.125j]\n",
       " [ 0.   -0.125j -0.125+0.j     0.   +0.125j  0.125+0.j     0.   -0.125j\n",
       "  -0.125+0.j     0.   +0.125j  0.125+0.j   ]]"
      ]
     },
     "execution_count": 38,
     "metadata": {},
     "output_type": "execute_result"
    }
   ],
   "source": [
    "density(inv_qft_state)"
   ]
  },
  {
   "cell_type": "code",
   "execution_count": 10,
   "metadata": {},
   "outputs": [
    {
     "data": {
      "text/html": [
       "<div>\n",
       "<style scoped>\n",
       "    .dataframe tbody tr th:only-of-type {\n",
       "        vertical-align: middle;\n",
       "    }\n",
       "\n",
       "    .dataframe tbody tr th {\n",
       "        vertical-align: top;\n",
       "    }\n",
       "\n",
       "    .dataframe thead th {\n",
       "        text-align: right;\n",
       "    }\n",
       "</style>\n",
       "<table border=\"1\" class=\"dataframe\">\n",
       "  <thead>\n",
       "    <tr style=\"text-align: right;\">\n",
       "      <th></th>\n",
       "      <th>000</th>\n",
       "      <th>001</th>\n",
       "      <th>010</th>\n",
       "      <th>011</th>\n",
       "      <th>100</th>\n",
       "      <th>101</th>\n",
       "      <th>110</th>\n",
       "      <th>111</th>\n",
       "    </tr>\n",
       "  </thead>\n",
       "  <tbody>\n",
       "    <tr>\n",
       "      <th>000:</th>\n",
       "      <td>0.35</td>\n",
       "      <td>0.35</td>\n",
       "      <td>0.35</td>\n",
       "      <td>0.35</td>\n",
       "      <td>0.35</td>\n",
       "      <td>0.35</td>\n",
       "      <td>0.35</td>\n",
       "      <td>0.35</td>\n",
       "    </tr>\n",
       "    <tr>\n",
       "      <th>001:</th>\n",
       "      <td>0.35</td>\n",
       "      <td>0.35|45</td>\n",
       "      <td>0.35|90</td>\n",
       "      <td>0.35|135</td>\n",
       "      <td>0.35|-180</td>\n",
       "      <td>0.35|-135</td>\n",
       "      <td>0.35|-90</td>\n",
       "      <td>0.35|-45</td>\n",
       "    </tr>\n",
       "    <tr>\n",
       "      <th>010: 1.0</th>\n",
       "      <td>0.35=&gt;0.35</td>\n",
       "      <td>0.35|90=&gt;0.35|90</td>\n",
       "      <td>0.35|-180=&gt;0.35|-180</td>\n",
       "      <td>0.35|-90=&gt;0.35|-90</td>\n",
       "      <td>0.35=&gt;0.35</td>\n",
       "      <td>0.35|90=&gt;0.35|90</td>\n",
       "      <td>0.35|-180=&gt;0.35|-180</td>\n",
       "      <td>0.35|-90=&gt;0.35|-90</td>\n",
       "    </tr>\n",
       "    <tr>\n",
       "      <th>011:</th>\n",
       "      <td>0.35</td>\n",
       "      <td>0.35|135</td>\n",
       "      <td>0.35|-90</td>\n",
       "      <td>0.35|45</td>\n",
       "      <td>0.35|-180</td>\n",
       "      <td>0.35|-45</td>\n",
       "      <td>0.35|90</td>\n",
       "      <td>0.35|-135</td>\n",
       "    </tr>\n",
       "    <tr>\n",
       "      <th>100:</th>\n",
       "      <td>0.35</td>\n",
       "      <td>0.35|-180</td>\n",
       "      <td>0.35</td>\n",
       "      <td>0.35|-180</td>\n",
       "      <td>0.35</td>\n",
       "      <td>0.35|-180</td>\n",
       "      <td>0.35</td>\n",
       "      <td>0.35|-180</td>\n",
       "    </tr>\n",
       "    <tr>\n",
       "      <th>101:</th>\n",
       "      <td>0.35</td>\n",
       "      <td>0.35|-135</td>\n",
       "      <td>0.35|90</td>\n",
       "      <td>0.35|-45</td>\n",
       "      <td>0.35|-180</td>\n",
       "      <td>0.35|45</td>\n",
       "      <td>0.35|-90</td>\n",
       "      <td>0.35|135</td>\n",
       "    </tr>\n",
       "    <tr>\n",
       "      <th>110:</th>\n",
       "      <td>0.35</td>\n",
       "      <td>0.35|-90</td>\n",
       "      <td>0.35|-180</td>\n",
       "      <td>0.35|90</td>\n",
       "      <td>0.35</td>\n",
       "      <td>0.35|-90</td>\n",
       "      <td>0.35|-180</td>\n",
       "      <td>0.35|90</td>\n",
       "    </tr>\n",
       "    <tr>\n",
       "      <th>111:</th>\n",
       "      <td>0.35</td>\n",
       "      <td>0.35|-45</td>\n",
       "      <td>0.35|-90</td>\n",
       "      <td>0.35|-135</td>\n",
       "      <td>0.35|-180</td>\n",
       "      <td>0.35|135</td>\n",
       "      <td>0.35|90</td>\n",
       "      <td>0.35|45</td>\n",
       "    </tr>\n",
       "    <tr>\n",
       "      <th>result</th>\n",
       "      <td>0.35</td>\n",
       "      <td>0.35|90</td>\n",
       "      <td>0.35|-180</td>\n",
       "      <td>0.35|-90</td>\n",
       "      <td>0.35</td>\n",
       "      <td>0.35|90</td>\n",
       "      <td>0.35|-180</td>\n",
       "      <td>0.35|-90</td>\n",
       "    </tr>\n",
       "  </tbody>\n",
       "</table>\n",
       "</div>"
      ],
      "text/plain": [
       "                 000               001                   010  \\\n",
       "000:            0.35              0.35                  0.35   \n",
       "001:            0.35           0.35|45               0.35|90   \n",
       "010: 1.0  0.35=>0.35  0.35|90=>0.35|90  0.35|-180=>0.35|-180   \n",
       "011:            0.35          0.35|135              0.35|-90   \n",
       "100:            0.35         0.35|-180                  0.35   \n",
       "101:            0.35         0.35|-135               0.35|90   \n",
       "110:            0.35          0.35|-90             0.35|-180   \n",
       "111:            0.35          0.35|-45              0.35|-90   \n",
       "result          0.35           0.35|90             0.35|-180   \n",
       "\n",
       "                         011         100               101  \\\n",
       "000:                    0.35        0.35              0.35   \n",
       "001:                0.35|135   0.35|-180         0.35|-135   \n",
       "010: 1.0  0.35|-90=>0.35|-90  0.35=>0.35  0.35|90=>0.35|90   \n",
       "011:                 0.35|45   0.35|-180          0.35|-45   \n",
       "100:               0.35|-180        0.35         0.35|-180   \n",
       "101:                0.35|-45   0.35|-180           0.35|45   \n",
       "110:                 0.35|90        0.35          0.35|-90   \n",
       "111:               0.35|-135   0.35|-180          0.35|135   \n",
       "result              0.35|-90        0.35           0.35|90   \n",
       "\n",
       "                           110                 111  \n",
       "000:                      0.35                0.35  \n",
       "001:                  0.35|-90            0.35|-45  \n",
       "010: 1.0  0.35|-180=>0.35|-180  0.35|-90=>0.35|-90  \n",
       "011:                   0.35|90           0.35|-135  \n",
       "100:                      0.35           0.35|-180  \n",
       "101:                  0.35|-90            0.35|135  \n",
       "110:                 0.35|-180             0.35|90  \n",
       "111:                   0.35|90             0.35|45  \n",
       "result               0.35|-180            0.35|-90  "
      ]
     },
     "execution_count": 10,
     "metadata": {},
     "output_type": "execute_result"
    }
   ],
   "source": [
    "parseEvolutionPd(dot(*invqft_gates.propagators()), inital_state)"
   ]
  },
  {
   "cell_type": "code",
   "execution_count": 11,
   "metadata": {},
   "outputs": [],
   "source": [
    "# state = inital_state\n",
    "# gates_matrixs = invqft_gates.propagators()\n",
    "# gate_index = -1"
   ]
  },
  {
   "cell_type": "code",
   "execution_count": 12,
   "metadata": {},
   "outputs": [],
   "source": [
    "# gate_index= =1\n",
    "# _pd = parseEvolutionPd(gates_matrixs[gate_index], state)\n",
    "# state = dot(gates_matrixs[gate_index], state)\n",
    "# _pd"
   ]
  },
  {
   "cell_type": "code",
   "execution_count": 13,
   "metadata": {},
   "outputs": [
    {
     "data": {
      "image/png": "[encoded data removed]",
      "text/plain": [
       "<IPython.core.display.Image object>"
      ]
     },
     "execution_count": 13,
     "metadata": {},
     "output_type": "execute_result"
    }
   ],
   "source": [
    "def QFT():\n",
    "    qc = QubitCircuit(qubit_num, reverse_states=reverse_states)\n",
    "    for qubit1 in range(qubit_num):\n",
    "        qc.add_gate('SNOT', targets=[qubit1])\n",
    "        for qubit2 in range(qubit1+1, qubit_num):\n",
    "            index = abs(qubit2 - qubit1)\n",
    "            index = 2 ** index\n",
    "            qc.add_gate('CPHASE', controls=[qubit1], targets=[qubit2], arg_value=-pi/(index), arg_label=r'-\\frac{\\pi}{'+f'{index}' + r'}')\n",
    "    qc.add_gate('SWAP', targets=[0, qubit_num-1])\n",
    "    return qc\n",
    "qft_gates = QFT()\n",
    "qft_gates.png"
   ]
  },
  {
   "cell_type": "code",
   "execution_count": 14,
   "metadata": {
    "scrolled": false
   },
   "outputs": [
    {
     "data": {
      "text/html": [
       "<div>\n",
       "<style scoped>\n",
       "    .dataframe tbody tr th:only-of-type {\n",
       "        vertical-align: middle;\n",
       "    }\n",
       "\n",
       "    .dataframe tbody tr th {\n",
       "        vertical-align: top;\n",
       "    }\n",
       "\n",
       "    .dataframe thead th {\n",
       "        text-align: right;\n",
       "    }\n",
       "</style>\n",
       "<table border=\"1\" class=\"dataframe\">\n",
       "  <thead>\n",
       "    <tr style=\"text-align: right;\">\n",
       "      <th></th>\n",
       "      <th>000</th>\n",
       "      <th>001</th>\n",
       "      <th>010</th>\n",
       "      <th>011</th>\n",
       "      <th>100</th>\n",
       "      <th>101</th>\n",
       "      <th>110</th>\n",
       "      <th>111</th>\n",
       "    </tr>\n",
       "  </thead>\n",
       "  <tbody>\n",
       "    <tr>\n",
       "      <th>000</th>\n",
       "      <td>0.35</td>\n",
       "      <td>0.35</td>\n",
       "      <td>0.35</td>\n",
       "      <td>0.35</td>\n",
       "      <td>0.35</td>\n",
       "      <td>0.35</td>\n",
       "      <td>0.35</td>\n",
       "      <td>0.35</td>\n",
       "    </tr>\n",
       "    <tr>\n",
       "      <th>001</th>\n",
       "      <td>0.35</td>\n",
       "      <td>0.35|-45</td>\n",
       "      <td>0.35|-90</td>\n",
       "      <td>0.35|-135</td>\n",
       "      <td>0.35|-180</td>\n",
       "      <td>0.35|135</td>\n",
       "      <td>0.35|90</td>\n",
       "      <td>0.35|45</td>\n",
       "    </tr>\n",
       "    <tr>\n",
       "      <th>010</th>\n",
       "      <td>0.35</td>\n",
       "      <td>0.35|-90</td>\n",
       "      <td>0.35|-180</td>\n",
       "      <td>0.35|90</td>\n",
       "      <td>0.35</td>\n",
       "      <td>0.35|-90</td>\n",
       "      <td>0.35|-180</td>\n",
       "      <td>0.35|90</td>\n",
       "    </tr>\n",
       "    <tr>\n",
       "      <th>011</th>\n",
       "      <td>0.35</td>\n",
       "      <td>0.35|-135</td>\n",
       "      <td>0.35|90</td>\n",
       "      <td>0.35|-45</td>\n",
       "      <td>0.35|-180</td>\n",
       "      <td>0.35|45</td>\n",
       "      <td>0.35|-90</td>\n",
       "      <td>0.35|135</td>\n",
       "    </tr>\n",
       "    <tr>\n",
       "      <th>100</th>\n",
       "      <td>0.35</td>\n",
       "      <td>0.35|-180</td>\n",
       "      <td>0.35</td>\n",
       "      <td>0.35|-180</td>\n",
       "      <td>0.35</td>\n",
       "      <td>0.35|-180</td>\n",
       "      <td>0.35</td>\n",
       "      <td>0.35|-180</td>\n",
       "    </tr>\n",
       "    <tr>\n",
       "      <th>101</th>\n",
       "      <td>0.35</td>\n",
       "      <td>0.35|135</td>\n",
       "      <td>0.35|-90</td>\n",
       "      <td>0.35|45</td>\n",
       "      <td>0.35|-180</td>\n",
       "      <td>0.35|-45</td>\n",
       "      <td>0.35|90</td>\n",
       "      <td>0.35|-135</td>\n",
       "    </tr>\n",
       "    <tr>\n",
       "      <th>110</th>\n",
       "      <td>0.35</td>\n",
       "      <td>0.35|90</td>\n",
       "      <td>0.35|-180</td>\n",
       "      <td>0.35|-90</td>\n",
       "      <td>0.35</td>\n",
       "      <td>0.35|90</td>\n",
       "      <td>0.35|-180</td>\n",
       "      <td>0.35|-90</td>\n",
       "    </tr>\n",
       "    <tr>\n",
       "      <th>111</th>\n",
       "      <td>0.35</td>\n",
       "      <td>0.35|45</td>\n",
       "      <td>0.35|90</td>\n",
       "      <td>0.35|135</td>\n",
       "      <td>0.35|-180</td>\n",
       "      <td>0.35|-135</td>\n",
       "      <td>0.35|-90</td>\n",
       "      <td>0.35|-45</td>\n",
       "    </tr>\n",
       "  </tbody>\n",
       "</table>\n",
       "</div>"
      ],
      "text/plain": [
       "      000        001        010        011        100        101        110  \\\n",
       "000  0.35       0.35       0.35       0.35       0.35       0.35       0.35   \n",
       "001  0.35   0.35|-45   0.35|-90  0.35|-135  0.35|-180   0.35|135    0.35|90   \n",
       "010  0.35   0.35|-90  0.35|-180    0.35|90       0.35   0.35|-90  0.35|-180   \n",
       "011  0.35  0.35|-135    0.35|90   0.35|-45  0.35|-180    0.35|45   0.35|-90   \n",
       "100  0.35  0.35|-180       0.35  0.35|-180       0.35  0.35|-180       0.35   \n",
       "101  0.35   0.35|135   0.35|-90    0.35|45  0.35|-180   0.35|-45    0.35|90   \n",
       "110  0.35    0.35|90  0.35|-180   0.35|-90       0.35    0.35|90  0.35|-180   \n",
       "111  0.35    0.35|45    0.35|90   0.35|135  0.35|-180  0.35|-135   0.35|-90   \n",
       "\n",
       "           111  \n",
       "000       0.35  \n",
       "001    0.35|45  \n",
       "010    0.35|90  \n",
       "011   0.35|135  \n",
       "100  0.35|-180  \n",
       "101  0.35|-135  \n",
       "110   0.35|-90  \n",
       "111   0.35|-45  "
      ]
     },
     "execution_count": 14,
     "metadata": {},
     "output_type": "execute_result"
    }
   ],
   "source": [
    "qft_matrixs = qft_gates.propagators()\n",
    "qft_matrix = dot(*qft_matrixs)\n",
    "paresGateMatrixPd(qft_matrix)"
   ]
  },
  {
   "cell_type": "code",
   "execution_count": 15,
   "metadata": {},
   "outputs": [
    {
     "data": {
      "text/html": [
       "<div>\n",
       "<style scoped>\n",
       "    .dataframe tbody tr th:only-of-type {\n",
       "        vertical-align: middle;\n",
       "    }\n",
       "\n",
       "    .dataframe tbody tr th {\n",
       "        vertical-align: top;\n",
       "    }\n",
       "\n",
       "    .dataframe thead th {\n",
       "        text-align: right;\n",
       "    }\n",
       "</style>\n",
       "<table border=\"1\" class=\"dataframe\">\n",
       "  <thead>\n",
       "    <tr style=\"text-align: right;\">\n",
       "      <th></th>\n",
       "      <th>000</th>\n",
       "      <th>001</th>\n",
       "      <th>010</th>\n",
       "      <th>011</th>\n",
       "      <th>100</th>\n",
       "      <th>101</th>\n",
       "      <th>110</th>\n",
       "      <th>111</th>\n",
       "    </tr>\n",
       "  </thead>\n",
       "  <tbody>\n",
       "    <tr>\n",
       "      <th>000: 0.35</th>\n",
       "      <td>0.35=&gt;0.12</td>\n",
       "      <td>0.35=&gt;0.12</td>\n",
       "      <td>0.35=&gt;0.12</td>\n",
       "      <td>0.35=&gt;0.12</td>\n",
       "      <td>0.35=&gt;0.12</td>\n",
       "      <td>0.35=&gt;0.12</td>\n",
       "      <td>0.35=&gt;0.12</td>\n",
       "      <td>0.35=&gt;0.12</td>\n",
       "    </tr>\n",
       "    <tr>\n",
       "      <th>001: 0.35|90</th>\n",
       "      <td>0.35=&gt;0.12|90</td>\n",
       "      <td>0.35|-45=&gt;0.12|45</td>\n",
       "      <td>0.35|-90=&gt;0.12</td>\n",
       "      <td>0.35|-135=&gt;0.12|-45</td>\n",
       "      <td>0.35|-180=&gt;0.12|-90</td>\n",
       "      <td>0.35|135=&gt;0.12|-135</td>\n",
       "      <td>0.35|90=&gt;0.12|-180</td>\n",
       "      <td>0.35|45=&gt;0.12|135</td>\n",
       "    </tr>\n",
       "    <tr>\n",
       "      <th>010: 0.35|-180</th>\n",
       "      <td>0.35=&gt;0.12|-180</td>\n",
       "      <td>0.35|-90=&gt;0.12|90</td>\n",
       "      <td>0.35|-180=&gt;0.12</td>\n",
       "      <td>0.35|90=&gt;0.12|-90</td>\n",
       "      <td>0.35=&gt;0.12|-180</td>\n",
       "      <td>0.35|-90=&gt;0.12|90</td>\n",
       "      <td>0.35|-180=&gt;0.12</td>\n",
       "      <td>0.35|90=&gt;0.12|-90</td>\n",
       "    </tr>\n",
       "    <tr>\n",
       "      <th>011: 0.35|-90</th>\n",
       "      <td>0.35=&gt;0.12|-90</td>\n",
       "      <td>0.35|-135=&gt;0.12|135</td>\n",
       "      <td>0.35|90=&gt;0.12</td>\n",
       "      <td>0.35|-45=&gt;0.12|-135</td>\n",
       "      <td>0.35|-180=&gt;0.12|90</td>\n",
       "      <td>0.35|45=&gt;0.12|-45</td>\n",
       "      <td>0.35|-90=&gt;0.12|-180</td>\n",
       "      <td>0.35|135=&gt;0.12|45</td>\n",
       "    </tr>\n",
       "    <tr>\n",
       "      <th>100: 0.35</th>\n",
       "      <td>0.35=&gt;0.12</td>\n",
       "      <td>0.35|-180=&gt;0.12|-180</td>\n",
       "      <td>0.35=&gt;0.12</td>\n",
       "      <td>0.35|-180=&gt;0.12|-180</td>\n",
       "      <td>0.35=&gt;0.12</td>\n",
       "      <td>0.35|-180=&gt;0.12|-180</td>\n",
       "      <td>0.35=&gt;0.12</td>\n",
       "      <td>0.35|-180=&gt;0.12|-180</td>\n",
       "    </tr>\n",
       "    <tr>\n",
       "      <th>101: 0.35|90</th>\n",
       "      <td>0.35=&gt;0.12|90</td>\n",
       "      <td>0.35|135=&gt;0.12|-135</td>\n",
       "      <td>0.35|-90=&gt;0.12</td>\n",
       "      <td>0.35|45=&gt;0.12|135</td>\n",
       "      <td>0.35|-180=&gt;0.12|-90</td>\n",
       "      <td>0.35|-45=&gt;0.12|45</td>\n",
       "      <td>0.35|90=&gt;0.12|-180</td>\n",
       "      <td>0.35|-135=&gt;0.12|-45</td>\n",
       "    </tr>\n",
       "    <tr>\n",
       "      <th>110: 0.35|-180</th>\n",
       "      <td>0.35=&gt;0.12|-180</td>\n",
       "      <td>0.35|90=&gt;0.12|-90</td>\n",
       "      <td>0.35|-180=&gt;0.12</td>\n",
       "      <td>0.35|-90=&gt;0.12|90</td>\n",
       "      <td>0.35=&gt;0.12|-180</td>\n",
       "      <td>0.35|90=&gt;0.12|-90</td>\n",
       "      <td>0.35|-180=&gt;0.12</td>\n",
       "      <td>0.35|-90=&gt;0.12|90</td>\n",
       "    </tr>\n",
       "    <tr>\n",
       "      <th>111: 0.35|-90</th>\n",
       "      <td>0.35=&gt;0.12|-90</td>\n",
       "      <td>0.35|45=&gt;0.12|-45</td>\n",
       "      <td>0.35|90=&gt;0.12</td>\n",
       "      <td>0.35|135=&gt;0.12|45</td>\n",
       "      <td>0.35|-180=&gt;0.12|90</td>\n",
       "      <td>0.35|-135=&gt;0.12|135</td>\n",
       "      <td>0.35|-90=&gt;0.12|-180</td>\n",
       "      <td>0.35|-45=&gt;0.12|-135</td>\n",
       "    </tr>\n",
       "    <tr>\n",
       "      <th>result</th>\n",
       "      <td></td>\n",
       "      <td></td>\n",
       "      <td>1.0</td>\n",
       "      <td></td>\n",
       "      <td></td>\n",
       "      <td></td>\n",
       "      <td></td>\n",
       "      <td></td>\n",
       "    </tr>\n",
       "  </tbody>\n",
       "</table>\n",
       "</div>"
      ],
      "text/plain": [
       "                            000                   001              010  \\\n",
       "000: 0.35            0.35=>0.12            0.35=>0.12       0.35=>0.12   \n",
       "001: 0.35|90      0.35=>0.12|90     0.35|-45=>0.12|45   0.35|-90=>0.12   \n",
       "010: 0.35|-180  0.35=>0.12|-180     0.35|-90=>0.12|90  0.35|-180=>0.12   \n",
       "011: 0.35|-90    0.35=>0.12|-90   0.35|-135=>0.12|135    0.35|90=>0.12   \n",
       "100: 0.35            0.35=>0.12  0.35|-180=>0.12|-180       0.35=>0.12   \n",
       "101: 0.35|90      0.35=>0.12|90   0.35|135=>0.12|-135   0.35|-90=>0.12   \n",
       "110: 0.35|-180  0.35=>0.12|-180     0.35|90=>0.12|-90  0.35|-180=>0.12   \n",
       "111: 0.35|-90    0.35=>0.12|-90     0.35|45=>0.12|-45    0.35|90=>0.12   \n",
       "result                                                             1.0   \n",
       "\n",
       "                                 011                  100  \\\n",
       "000: 0.35                 0.35=>0.12           0.35=>0.12   \n",
       "001: 0.35|90     0.35|-135=>0.12|-45  0.35|-180=>0.12|-90   \n",
       "010: 0.35|-180     0.35|90=>0.12|-90      0.35=>0.12|-180   \n",
       "011: 0.35|-90    0.35|-45=>0.12|-135   0.35|-180=>0.12|90   \n",
       "100: 0.35       0.35|-180=>0.12|-180           0.35=>0.12   \n",
       "101: 0.35|90       0.35|45=>0.12|135  0.35|-180=>0.12|-90   \n",
       "110: 0.35|-180     0.35|-90=>0.12|90      0.35=>0.12|-180   \n",
       "111: 0.35|-90      0.35|135=>0.12|45   0.35|-180=>0.12|90   \n",
       "result                                                      \n",
       "\n",
       "                                 101                  110  \\\n",
       "000: 0.35                 0.35=>0.12           0.35=>0.12   \n",
       "001: 0.35|90     0.35|135=>0.12|-135   0.35|90=>0.12|-180   \n",
       "010: 0.35|-180     0.35|-90=>0.12|90      0.35|-180=>0.12   \n",
       "011: 0.35|-90      0.35|45=>0.12|-45  0.35|-90=>0.12|-180   \n",
       "100: 0.35       0.35|-180=>0.12|-180           0.35=>0.12   \n",
       "101: 0.35|90       0.35|-45=>0.12|45   0.35|90=>0.12|-180   \n",
       "110: 0.35|-180     0.35|90=>0.12|-90      0.35|-180=>0.12   \n",
       "111: 0.35|-90    0.35|-135=>0.12|135  0.35|-90=>0.12|-180   \n",
       "result                                                      \n",
       "\n",
       "                                 111  \n",
       "000: 0.35                 0.35=>0.12  \n",
       "001: 0.35|90       0.35|45=>0.12|135  \n",
       "010: 0.35|-180     0.35|90=>0.12|-90  \n",
       "011: 0.35|-90      0.35|135=>0.12|45  \n",
       "100: 0.35       0.35|-180=>0.12|-180  \n",
       "101: 0.35|90     0.35|-135=>0.12|-45  \n",
       "110: 0.35|-180     0.35|-90=>0.12|90  \n",
       "111: 0.35|-90    0.35|-45=>0.12|-135  \n",
       "result                                "
      ]
     },
     "execution_count": 15,
     "metadata": {},
     "output_type": "execute_result"
    }
   ],
   "source": [
    "parseEvolutionPd(qft_matrix, inv_qft_state)"
   ]
  },
  {
   "cell_type": "code",
   "execution_count": 16,
   "metadata": {},
   "outputs": [
    {
     "data": {
      "text/html": [
       "<div>\n",
       "<style scoped>\n",
       "    .dataframe tbody tr th:only-of-type {\n",
       "        vertical-align: middle;\n",
       "    }\n",
       "\n",
       "    .dataframe tbody tr th {\n",
       "        vertical-align: top;\n",
       "    }\n",
       "\n",
       "    .dataframe thead th {\n",
       "        text-align: right;\n",
       "    }\n",
       "</style>\n",
       "<table border=\"1\" class=\"dataframe\">\n",
       "  <thead>\n",
       "    <tr style=\"text-align: right;\">\n",
       "      <th></th>\n",
       "      <th>000</th>\n",
       "      <th>001</th>\n",
       "      <th>010</th>\n",
       "      <th>011</th>\n",
       "      <th>100</th>\n",
       "      <th>101</th>\n",
       "      <th>110</th>\n",
       "      <th>111</th>\n",
       "    </tr>\n",
       "  </thead>\n",
       "  <tbody>\n",
       "    <tr>\n",
       "      <th>state</th>\n",
       "      <td></td>\n",
       "      <td></td>\n",
       "      <td>1.0</td>\n",
       "      <td></td>\n",
       "      <td></td>\n",
       "      <td></td>\n",
       "      <td></td>\n",
       "      <td></td>\n",
       "    </tr>\n",
       "  </tbody>\n",
       "</table>\n",
       "</div>"
      ],
      "text/plain": [
       "      000 001  010 011 100 101 110 111\n",
       "state          1.0                    "
      ]
     },
     "execution_count": 16,
     "metadata": {},
     "output_type": "execute_result"
    }
   ],
   "source": [
    "qft_state = dot(qft_matrix, inv_qft_state)\n",
    "parseStateVecPd(qft_state)"
   ]
  },
  {
   "cell_type": "code",
   "execution_count": 17,
   "metadata": {},
   "outputs": [
    {
     "name": "stderr",
     "output_type": "stream",
     "text": [
      "C:\\Users\\Tan Siwei\\AppData\\Local\\conda\\conda\\envs\\py3\\lib\\site-packages\\qutip\\qip\\circuit.py:275: UserWarning: Unknown gate NCNOT\n",
      "  warnings.warn(\"Unknown gate %s\" % name)\n"
     ]
    },
    {
     "data": {
      "image/png": "[encoded data removed]",
      "text/plain": [
       "<IPython.core.display.Image object>"
      ]
     },
     "execution_count": 17,
     "metadata": {},
     "output_type": "execute_result"
    }
   ],
   "source": [
    "def add():\n",
    "    qc = QubitCircuit(qubit_num, reverse_states=reverse_states)\n",
    "    qc.user_gates = {\"NCNOT\": ncnot}\n",
    "    \n",
    "    for qubit in range(0, qubit_num):\n",
    "        qc.add_gate(\"NCNOT\", targets=list(range(qubit+1, qubit_num)) + [qubit], arg_value={'control_num': qubit_num-qubit-1})\n",
    "    return qc\n",
    "add_gates = add()\n",
    "add_gates.png"
   ]
  },
  {
   "cell_type": "code",
   "execution_count": 18,
   "metadata": {
    "scrolled": true
   },
   "outputs": [
    {
     "data": {
      "text/html": [
       "<div>\n",
       "<style scoped>\n",
       "    .dataframe tbody tr th:only-of-type {\n",
       "        vertical-align: middle;\n",
       "    }\n",
       "\n",
       "    .dataframe tbody tr th {\n",
       "        vertical-align: top;\n",
       "    }\n",
       "\n",
       "    .dataframe thead th {\n",
       "        text-align: right;\n",
       "    }\n",
       "</style>\n",
       "<table border=\"1\" class=\"dataframe\">\n",
       "  <thead>\n",
       "    <tr style=\"text-align: right;\">\n",
       "      <th></th>\n",
       "      <th>000</th>\n",
       "      <th>001</th>\n",
       "      <th>010</th>\n",
       "      <th>011</th>\n",
       "      <th>100</th>\n",
       "      <th>101</th>\n",
       "      <th>110</th>\n",
       "      <th>111</th>\n",
       "    </tr>\n",
       "  </thead>\n",
       "  <tbody>\n",
       "    <tr>\n",
       "      <th>000</th>\n",
       "      <td></td>\n",
       "      <td></td>\n",
       "      <td></td>\n",
       "      <td></td>\n",
       "      <td></td>\n",
       "      <td></td>\n",
       "      <td></td>\n",
       "      <td>1.0</td>\n",
       "    </tr>\n",
       "    <tr>\n",
       "      <th>001</th>\n",
       "      <td>1.0</td>\n",
       "      <td></td>\n",
       "      <td></td>\n",
       "      <td></td>\n",
       "      <td></td>\n",
       "      <td></td>\n",
       "      <td></td>\n",
       "      <td></td>\n",
       "    </tr>\n",
       "    <tr>\n",
       "      <th>010</th>\n",
       "      <td></td>\n",
       "      <td>1.0</td>\n",
       "      <td></td>\n",
       "      <td></td>\n",
       "      <td></td>\n",
       "      <td></td>\n",
       "      <td></td>\n",
       "      <td></td>\n",
       "    </tr>\n",
       "    <tr>\n",
       "      <th>011</th>\n",
       "      <td></td>\n",
       "      <td></td>\n",
       "      <td>1.0</td>\n",
       "      <td></td>\n",
       "      <td></td>\n",
       "      <td></td>\n",
       "      <td></td>\n",
       "      <td></td>\n",
       "    </tr>\n",
       "    <tr>\n",
       "      <th>100</th>\n",
       "      <td></td>\n",
       "      <td></td>\n",
       "      <td></td>\n",
       "      <td>1.0</td>\n",
       "      <td></td>\n",
       "      <td></td>\n",
       "      <td></td>\n",
       "      <td></td>\n",
       "    </tr>\n",
       "    <tr>\n",
       "      <th>101</th>\n",
       "      <td></td>\n",
       "      <td></td>\n",
       "      <td></td>\n",
       "      <td></td>\n",
       "      <td>1.0</td>\n",
       "      <td></td>\n",
       "      <td></td>\n",
       "      <td></td>\n",
       "    </tr>\n",
       "    <tr>\n",
       "      <th>110</th>\n",
       "      <td></td>\n",
       "      <td></td>\n",
       "      <td></td>\n",
       "      <td></td>\n",
       "      <td></td>\n",
       "      <td>1.0</td>\n",
       "      <td></td>\n",
       "      <td></td>\n",
       "    </tr>\n",
       "    <tr>\n",
       "      <th>111</th>\n",
       "      <td></td>\n",
       "      <td></td>\n",
       "      <td></td>\n",
       "      <td></td>\n",
       "      <td></td>\n",
       "      <td></td>\n",
       "      <td>1.0</td>\n",
       "      <td></td>\n",
       "    </tr>\n",
       "  </tbody>\n",
       "</table>\n",
       "</div>"
      ],
      "text/plain": [
       "     000  001  010  011  100  101  110  111\n",
       "000                                     1.0\n",
       "001  1.0                                   \n",
       "010       1.0                              \n",
       "011            1.0                         \n",
       "100                 1.0                    \n",
       "101                      1.0               \n",
       "110                           1.0          \n",
       "111                                1.0     "
      ]
     },
     "execution_count": 18,
     "metadata": {},
     "output_type": "execute_result"
    }
   ],
   "source": [
    "add_matrix = dot(*add_gates.propagators())\n",
    "paresGateMatrixPd(add_matrix)"
   ]
  },
  {
   "cell_type": "code",
   "execution_count": 19,
   "metadata": {
    "scrolled": true
   },
   "outputs": [
    {
     "data": {
      "text/html": [
       "<div>\n",
       "<style scoped>\n",
       "    .dataframe tbody tr th:only-of-type {\n",
       "        vertical-align: middle;\n",
       "    }\n",
       "\n",
       "    .dataframe tbody tr th {\n",
       "        vertical-align: top;\n",
       "    }\n",
       "\n",
       "    .dataframe thead th {\n",
       "        text-align: right;\n",
       "    }\n",
       "</style>\n",
       "<table border=\"1\" class=\"dataframe\">\n",
       "  <thead>\n",
       "    <tr style=\"text-align: right;\">\n",
       "      <th></th>\n",
       "      <th>000</th>\n",
       "      <th>001</th>\n",
       "      <th>010</th>\n",
       "      <th>011</th>\n",
       "      <th>100</th>\n",
       "      <th>101</th>\n",
       "      <th>110</th>\n",
       "      <th>111</th>\n",
       "    </tr>\n",
       "  </thead>\n",
       "  <tbody>\n",
       "    <tr>\n",
       "      <th>state</th>\n",
       "      <td></td>\n",
       "      <td>1.0</td>\n",
       "      <td></td>\n",
       "      <td></td>\n",
       "      <td></td>\n",
       "      <td></td>\n",
       "      <td></td>\n",
       "      <td></td>\n",
       "    </tr>\n",
       "  </tbody>\n",
       "</table>\n",
       "</div>"
      ],
      "text/plain": [
       "      000  001 010 011 100 101 110 111\n",
       "state      1.0                        "
      ]
     },
     "execution_count": 19,
     "metadata": {},
     "output_type": "execute_result"
    }
   ],
   "source": [
    "add_state = dot(add_matrix, inital_state)\n",
    "parseStateVecPd(add_state)"
   ]
  },
  {
   "cell_type": "code",
   "execution_count": 20,
   "metadata": {},
   "outputs": [
    {
     "data": {
      "text/latex": [
       "Quantum object: dims = [[8], [1]], shape = (8, 1), type = ket\\begin{equation*}\\left(\\begin{array}{*{11}c}0.0\\\\1.0\\\\0.0\\\\0.0\\\\0.0\\\\0.0\\\\0.0\\\\0.0\\\\\\end{array}\\right)\\end{equation*}"
      ],
      "text/plain": [
       "Quantum object: dims = [[8], [1]], shape = (8, 1), type = ket\n",
       "Qobj data =\n",
       "[[0.]\n",
       " [1.]\n",
       " [0.]\n",
       " [0.]\n",
       " [0.]\n",
       " [0.]\n",
       " [0.]\n",
       " [0.]]"
      ]
     },
     "execution_count": 20,
     "metadata": {},
     "output_type": "execute_result"
    }
   ],
   "source": [
    "add_state"
   ]
  },
  {
   "cell_type": "markdown",
   "metadata": {},
   "source": [
    "# 密度矩阵"
   ]
  },
  {
   "cell_type": "code",
   "execution_count": 21,
   "metadata": {},
   "outputs": [
    {
     "data": {
      "text/latex": [
       "Quantum object: dims = [[8], [1]], shape = (8, 1), type = ket\\begin{equation*}\\left(\\begin{array}{*{11}c}0.0\\\\1.0\\\\0.0\\\\0.0\\\\0.0\\\\0.0\\\\0.0\\\\0.0\\\\\\end{array}\\right)\\end{equation*}"
      ],
      "text/plain": [
       "Quantum object: dims = [[8], [1]], shape = (8, 1), type = ket\n",
       "Qobj data =\n",
       "[[0.]\n",
       " [1.]\n",
       " [0.]\n",
       " [0.]\n",
       " [0.]\n",
       " [0.]\n",
       " [0.]\n",
       " [0.]]"
      ]
     },
     "execution_count": 21,
     "metadata": {},
     "output_type": "execute_result"
    }
   ],
   "source": [
    "density_add_state = density(add_state)\n",
    "add_state"
   ]
  },
  {
   "cell_type": "code",
   "execution_count": 22,
   "metadata": {
    "scrolled": true
   },
   "outputs": [
    {
     "data": {
      "text/latex": [
       "Quantum object: dims = [[2], [2]], shape = (2, 2), type = oper, isherm = True\\begin{equation*}\\left(\\begin{array}{*{11}c}0.0 & 0.0\\\\0.0 & 1.0\\\\\\end{array}\\right)\\end{equation*}"
      ],
      "text/plain": [
       "Quantum object: dims = [[2], [2]], shape = (2, 2), type = oper, isherm = True\n",
       "Qobj data =\n",
       "[[0. 0.]\n",
       " [0. 1.]]"
      ]
     },
     "execution_count": 22,
     "metadata": {},
     "output_type": "execute_result"
    }
   ],
   "source": [
    "add_state = changeDims(add_state)\n",
    "add_state.ptrace([2])  # 最右边的是2"
   ]
  },
  {
   "cell_type": "code",
   "execution_count": 23,
   "metadata": {},
   "outputs": [
    {
     "data": {
      "text/latex": [
       "Quantum object: dims = [[2, 2, 2], [1, 1, 1]], shape = (8, 1), type = ket\\begin{equation*}\\left(\\begin{array}{*{11}c}0.0\\\\0.0\\\\0.0\\\\1.0\\\\0.0\\\\0.0\\\\0.0\\\\0.0\\\\\\end{array}\\right)\\end{equation*}"
      ],
      "text/plain": [
       "Quantum object: dims = [[2, 2, 2], [1, 1, 1]], shape = (8, 1), type = ket\n",
       "Qobj data =\n",
       "[[0.]\n",
       " [0.]\n",
       " [0.]\n",
       " [1.]\n",
       " [0.]\n",
       " [0.]\n",
       " [0.]\n",
       " [0.]]"
      ]
     },
     "execution_count": 23,
     "metadata": {},
     "output_type": "execute_result"
    }
   ],
   "source": [
    "psi = tensor(basis(2, 0), basis(2, 1), basis(2, 1))\n",
    "psi"
   ]
  },
  {
   "cell_type": "code",
   "execution_count": 24,
   "metadata": {},
   "outputs": [
    {
     "data": {
      "text/latex": [
       "Quantum object: dims = [[2, 2], [2, 2]], shape = (4, 4), type = oper, isherm = True\\begin{equation*}\\left(\\begin{array}{*{11}c}0.0 & 0.0 & 0.0 & 0.0\\\\0.0 & 1.0 & 0.0 & 0.0\\\\0.0 & 0.0 & 0.0 & 0.0\\\\0.0 & 0.0 & 0.0 & 0.0\\\\\\end{array}\\right)\\end{equation*}"
      ],
      "text/plain": [
       "Quantum object: dims = [[2, 2], [2, 2]], shape = (4, 4), type = oper, isherm = True\n",
       "Qobj data =\n",
       "[[0. 0. 0. 0.]\n",
       " [0. 1. 0. 0.]\n",
       " [0. 0. 0. 0.]\n",
       " [0. 0. 0. 0.]]"
      ]
     },
     "execution_count": 24,
     "metadata": {},
     "output_type": "execute_result"
    }
   ],
   "source": [
    "psi.ptrace([0,1])"
   ]
  },
  {
   "cell_type": "markdown",
   "metadata": {},
   "source": [
    "# 其他的测试"
   ]
  },
  {
   "cell_type": "code",
   "execution_count": 25,
   "metadata": {
    "scrolled": true
   },
   "outputs": [
    {
     "data": {
      "text/latex": [
       "Quantum object: dims = [[2, 2, 2], [2, 2, 2]], shape = (8, 8), type = oper, isherm = True\\begin{equation*}\\left(\\begin{array}{*{11}c}0.0 & 0.0 & 1.0 & 0.0 & 0.0 & 0.0 & 0.0 & 0.0\\\\0.0 & 0.0 & 0.0 & 1.0 & 0.0 & 0.0 & 0.0 & 0.0\\\\1.0 & 0.0 & 0.0 & 0.0 & 0.0 & 0.0 & 0.0 & 0.0\\\\0.0 & 1.0 & 0.0 & 0.0 & 0.0 & 0.0 & 0.0 & 0.0\\\\0.0 & 0.0 & 0.0 & 0.0 & 0.0 & 0.0 & 1.0 & 0.0\\\\0.0 & 0.0 & 0.0 & 0.0 & 0.0 & 0.0 & 0.0 & 1.0\\\\0.0 & 0.0 & 0.0 & 0.0 & 1.0 & 0.0 & 0.0 & 0.0\\\\0.0 & 0.0 & 0.0 & 0.0 & 0.0 & 1.0 & 0.0 & 0.0\\\\\\end{array}\\right)\\end{equation*}"
      ],
      "text/plain": [
       "Quantum object: dims = [[2, 2, 2], [2, 2, 2]], shape = (8, 8), type = oper, isherm = True\n",
       "Qobj data =\n",
       "[[0. 0. 1. 0. 0. 0. 0. 0.]\n",
       " [0. 0. 0. 1. 0. 0. 0. 0.]\n",
       " [1. 0. 0. 0. 0. 0. 0. 0.]\n",
       " [0. 1. 0. 0. 0. 0. 0. 0.]\n",
       " [0. 0. 0. 0. 0. 0. 1. 0.]\n",
       " [0. 0. 0. 0. 0. 0. 0. 1.]\n",
       " [0. 0. 0. 0. 1. 0. 0. 0.]\n",
       " [0. 0. 0. 0. 0. 1. 0. 0.]]"
      ]
     },
     "execution_count": 25,
     "metadata": {},
     "output_type": "execute_result"
    }
   ],
   "source": [
    "target = 1;\n",
    "N = 3;\n",
    "m = gate_expand_1toN(pauli_x,N,target)\n",
    "m"
   ]
  },
  {
   "cell_type": "code",
   "execution_count": 26,
   "metadata": {},
   "outputs": [
    {
     "data": {
      "text/latex": [
       "Quantum object: dims = [[2, 2, 2], [2, 2, 2]], shape = (8, 8), type = oper, isherm = True\\begin{equation*}\\left(\\begin{array}{*{11}c}0.0 & 0.0 & 1.0 & 0.0 & 0.0 & 0.0 & 0.0 & 0.0\\\\0.0 & 0.0 & 0.0 & 1.0 & 0.0 & 0.0 & 0.0 & 0.0\\\\1.0 & 0.0 & 0.0 & 0.0 & 0.0 & 0.0 & 0.0 & 0.0\\\\0.0 & 1.0 & 0.0 & 0.0 & 0.0 & 0.0 & 0.0 & 0.0\\\\0.0 & 0.0 & 0.0 & 0.0 & 0.0 & 0.0 & 1.0 & 0.0\\\\0.0 & 0.0 & 0.0 & 0.0 & 0.0 & 0.0 & 0.0 & 1.0\\\\0.0 & 0.0 & 0.0 & 0.0 & 1.0 & 0.0 & 0.0 & 0.0\\\\0.0 & 0.0 & 0.0 & 0.0 & 0.0 & 1.0 & 0.0 & 0.0\\\\\\end{array}\\right)\\end{equation*}"
      ],
      "text/plain": [
       "Quantum object: dims = [[2, 2, 2], [2, 2, 2]], shape = (8, 8), type = oper, isherm = True\n",
       "Qobj data =\n",
       "[[0. 0. 1. 0. 0. 0. 0. 0.]\n",
       " [0. 0. 0. 1. 0. 0. 0. 0.]\n",
       " [1. 0. 0. 0. 0. 0. 0. 0.]\n",
       " [0. 1. 0. 0. 0. 0. 0. 0.]\n",
       " [0. 0. 0. 0. 0. 0. 1. 0.]\n",
       " [0. 0. 0. 0. 0. 0. 0. 1.]\n",
       " [0. 0. 0. 0. 1. 0. 0. 0.]\n",
       " [0. 0. 0. 0. 0. 1. 0. 0.]]"
      ]
     },
     "execution_count": 26,
     "metadata": {},
     "output_type": "execute_result"
    }
   ],
   "source": [
    "m.permute([2,1,0])"
   ]
  },
  {
   "cell_type": "code",
   "execution_count": 27,
   "metadata": {},
   "outputs": [
    {
     "data": {
      "text/latex": [
       "Quantum object: dims = [[2, 2, 2], [2, 2, 2]], shape = (8, 8), type = oper, isherm = True\\begin{equation*}\\left(\\begin{array}{*{11}c}0.0 & 0.0 & 0.0 & 0.0 & 1.0 & 0.0 & 0.0 & 0.0\\\\0.0 & 0.0 & 0.0 & 0.0 & 0.0 & 1.0 & 0.0 & 0.0\\\\0.0 & 0.0 & 0.0 & 0.0 & 0.0 & 0.0 & 1.0 & 0.0\\\\0.0 & 0.0 & 0.0 & 0.0 & 0.0 & 0.0 & 0.0 & 1.0\\\\1.0 & 0.0 & 0.0 & 0.0 & 0.0 & 0.0 & 0.0 & 0.0\\\\0.0 & 1.0 & 0.0 & 0.0 & 0.0 & 0.0 & 0.0 & 0.0\\\\0.0 & 0.0 & 1.0 & 0.0 & 0.0 & 0.0 & 0.0 & 0.0\\\\0.0 & 0.0 & 0.0 & 1.0 & 0.0 & 0.0 & 0.0 & 0.0\\\\\\end{array}\\right)\\end{equation*}"
      ],
      "text/plain": [
       "Quantum object: dims = [[2, 2, 2], [2, 2, 2]], shape = (8, 8), type = oper, isherm = True\n",
       "Qobj data =\n",
       "[[0. 0. 0. 0. 1. 0. 0. 0.]\n",
       " [0. 0. 0. 0. 0. 1. 0. 0.]\n",
       " [0. 0. 0. 0. 0. 0. 1. 0.]\n",
       " [0. 0. 0. 0. 0. 0. 0. 1.]\n",
       " [1. 0. 0. 0. 0. 0. 0. 0.]\n",
       " [0. 1. 0. 0. 0. 0. 0. 0.]\n",
       " [0. 0. 1. 0. 0. 0. 0. 0.]\n",
       " [0. 0. 0. 1. 0. 0. 0. 0.]]"
      ]
     },
     "execution_count": 27,
     "metadata": {},
     "output_type": "execute_result"
    }
   ],
   "source": [
    "m.permute([1, 0, 2])"
   ]
  },
  {
   "cell_type": "code",
   "execution_count": 28,
   "metadata": {},
   "outputs": [],
   "source": [
    "permute?"
   ]
  },
  {
   "cell_type": "code",
   "execution_count": 29,
   "metadata": {},
   "outputs": [
    {
     "data": {
      "text/latex": [
       "Quantum object: dims = [[2, 2, 2], [2, 2, 2]], shape = (8, 8), type = oper, isherm = True\\begin{equation*}\\left(\\begin{array}{*{11}c}1.0 & 0.0 & 0.0 & 0.0 & 0.0 & 0.0 & 0.0 & 0.0\\\\0.0 & 1.0 & 0.0 & 0.0 & 0.0 & 0.0 & 0.0 & 0.0\\\\0.0 & 0.0 & 1.0 & 0.0 & 0.0 & 0.0 & 0.0 & 0.0\\\\0.0 & 0.0 & 0.0 & 1.0 & 0.0 & 0.0 & 0.0 & 0.0\\\\0.0 & 0.0 & 0.0 & 0.0 & 0.0 & 0.0 & 1.0 & 0.0\\\\0.0 & 0.0 & 0.0 & 0.0 & 0.0 & 0.0 & 0.0 & 1.0\\\\0.0 & 0.0 & 0.0 & 0.0 & 1.0 & 0.0 & 0.0 & 0.0\\\\0.0 & 0.0 & 0.0 & 0.0 & 0.0 & 1.0 & 0.0 & 0.0\\\\\\end{array}\\right)\\end{equation*}"
      ],
      "text/plain": [
       "Quantum object: dims = [[2, 2, 2], [2, 2, 2]], shape = (8, 8), type = oper, isherm = True\n",
       "Qobj data =\n",
       "[[1. 0. 0. 0. 0. 0. 0. 0.]\n",
       " [0. 1. 0. 0. 0. 0. 0. 0.]\n",
       " [0. 0. 1. 0. 0. 0. 0. 0.]\n",
       " [0. 0. 0. 1. 0. 0. 0. 0.]\n",
       " [0. 0. 0. 0. 0. 0. 1. 0.]\n",
       " [0. 0. 0. 0. 0. 0. 0. 1.]\n",
       " [0. 0. 0. 0. 1. 0. 0. 0.]\n",
       " [0. 0. 0. 0. 0. 1. 0. 0.]]"
      ]
     },
     "execution_count": 29,
     "metadata": {},
     "output_type": "execute_result"
    }
   ],
   "source": [
    "controlled_gate(pauli_x,3,0,1,1)"
   ]
  },
  {
   "cell_type": "code",
   "execution_count": 30,
   "metadata": {},
   "outputs": [
    {
     "data": {
      "text/latex": [
       "Quantum object: dims = [[2, 2, 2], [2, 2, 2]], shape = (8, 8), type = oper, isherm = True\\begin{equation*}\\left(\\begin{array}{*{11}c}1.0 & 0.0 & 0.0 & 0.0 & 0.0 & 0.0 & 0.0 & 0.0\\\\0.0 & 0.0 & 0.0 & 0.0 & 0.0 & 1.0 & 0.0 & 0.0\\\\0.0 & 0.0 & 1.0 & 0.0 & 0.0 & 0.0 & 0.0 & 0.0\\\\0.0 & 0.0 & 0.0 & 0.0 & 0.0 & 0.0 & 0.0 & 1.0\\\\0.0 & 0.0 & 0.0 & 0.0 & 1.0 & 0.0 & 0.0 & 0.0\\\\0.0 & 1.0 & 0.0 & 0.0 & 0.0 & 0.0 & 0.0 & 0.0\\\\0.0 & 0.0 & 0.0 & 0.0 & 0.0 & 0.0 & 1.0 & 0.0\\\\0.0 & 0.0 & 0.0 & 1.0 & 0.0 & 0.0 & 0.0 & 0.0\\\\\\end{array}\\right)\\end{equation*}"
      ],
      "text/plain": [
       "Quantum object: dims = [[2, 2, 2], [2, 2, 2]], shape = (8, 8), type = oper, isherm = True\n",
       "Qobj data =\n",
       "[[1. 0. 0. 0. 0. 0. 0. 0.]\n",
       " [0. 0. 0. 0. 0. 1. 0. 0.]\n",
       " [0. 0. 1. 0. 0. 0. 0. 0.]\n",
       " [0. 0. 0. 0. 0. 0. 0. 1.]\n",
       " [0. 0. 0. 0. 1. 0. 0. 0.]\n",
       " [0. 1. 0. 0. 0. 0. 0. 0.]\n",
       " [0. 0. 0. 0. 0. 0. 1. 0.]\n",
       " [0. 0. 0. 1. 0. 0. 0. 0.]]"
      ]
     },
     "execution_count": 30,
     "metadata": {},
     "output_type": "execute_result"
    }
   ],
   "source": [
    "controlled_gate(pauli_x,3,2,0,1)"
   ]
  },
  {
   "cell_type": "code",
   "execution_count": 31,
   "metadata": {},
   "outputs": [
    {
     "data": {
      "text/html": [
       "<div>\n",
       "<style scoped>\n",
       "    .dataframe tbody tr th:only-of-type {\n",
       "        vertical-align: middle;\n",
       "    }\n",
       "\n",
       "    .dataframe tbody tr th {\n",
       "        vertical-align: top;\n",
       "    }\n",
       "\n",
       "    .dataframe thead th {\n",
       "        text-align: right;\n",
       "    }\n",
       "</style>\n",
       "<table border=\"1\" class=\"dataframe\">\n",
       "  <thead>\n",
       "    <tr style=\"text-align: right;\">\n",
       "      <th></th>\n",
       "      <th>0</th>\n",
       "      <th>1</th>\n",
       "    </tr>\n",
       "  </thead>\n",
       "  <tbody>\n",
       "    <tr>\n",
       "      <th>0</th>\n",
       "      <td></td>\n",
       "      <td>1.0</td>\n",
       "    </tr>\n",
       "    <tr>\n",
       "      <th>1</th>\n",
       "      <td>1.0</td>\n",
       "      <td></td>\n",
       "    </tr>\n",
       "  </tbody>\n",
       "</table>\n",
       "</div>"
      ],
      "text/plain": [
       "     0    1\n",
       "0       1.0\n",
       "1  1.0     "
      ]
     },
     "execution_count": 31,
     "metadata": {},
     "output_type": "execute_result"
    }
   ],
   "source": [
    "paresGateMatrixPd(pauli_x)"
   ]
  },
  {
   "cell_type": "code",
   "execution_count": 32,
   "metadata": {},
   "outputs": [
    {
     "data": {
      "text/latex": [
       "Quantum object: dims = [[3], [1]], shape = (3, 1), type = ket\\begin{equation*}\\left(\\begin{array}{*{11}c}1.0\\\\2.0\\\\3.0\\\\\\end{array}\\right)\\end{equation*}"
      ],
      "text/plain": [
       "Quantum object: dims = [[3], [1]], shape = (3, 1), type = ket\n",
       "Qobj data =\n",
       "[[1.]\n",
       " [2.]\n",
       " [3.]]"
      ]
     },
     "execution_count": 32,
     "metadata": {},
     "output_type": "execute_result"
    }
   ],
   "source": [
    "state_temp = Qobj([[1],[2],[3]])\n",
    "state_temp"
   ]
  },
  {
   "cell_type": "markdown",
   "metadata": {},
   "source": [
    "#  BQSKit"
   ]
  },
  {
   "cell_type": "code",
   "execution_count": 33,
   "metadata": {},
   "outputs": [],
   "source": [
    "import bqskit"
   ]
  },
  {
   "cell_type": "code",
   "execution_count": 34,
   "metadata": {},
   "outputs": [],
   "source": [
    "bqskit?"
   ]
  },
  {
   "cell_type": "code",
   "execution_count": 35,
   "metadata": {},
   "outputs": [
    {
     "data": {
      "text/latex": [
       "Quantum object: dims = [[2, 2, 2], [2, 2, 2]], shape = (8, 8), type = oper, isherm = False\\begin{equation*}\\left(\\begin{array}{*{11}c}1.0 & 0.0 & 0.0 & 0.0 & 0.0 & 0.0 & 0.0 & 0.0\\\\0.0 & 1.0 & 0.0 & 0.0 & 0.0 & 0.0 & 0.0 & 0.0\\\\0.0 & 0.0 & 1.0 & 0.0 & 0.0 & 0.0 & 0.0 & 0.0\\\\0.0 & 0.0 & 0.0 & 1.0 & 0.0 & 0.0 & 0.0 & 0.0\\\\0.0 & 0.0 & 0.0 & 0.0 & 1.0 & 0.0 & 0.0 & 0.0\\\\0.0 & 0.0 & 0.0 & 0.0 & 0.0 & 1.0 & 0.0 & 0.0\\\\0.0 & 0.0 & 0.0 & 0.0 & 0.0 & 0.0 & 1.0 & 0.0\\\\0.0 & 0.0 & 0.0 & 0.0 & 0.0 & 0.0 & 0.0 & (0.866+0.500j)\\\\\\end{array}\\right)\\end{equation*}"
      ],
      "text/plain": [
       "Quantum object: dims = [[2, 2, 2], [2, 2, 2]], shape = (8, 8), type = oper, isherm = False\n",
       "Qobj data =\n",
       "[[1.       +0.j  0.       +0.j  0.       +0.j  0.       +0.j\n",
       "  0.       +0.j  0.       +0.j  0.       +0.j  0.       +0.j ]\n",
       " [0.       +0.j  1.       +0.j  0.       +0.j  0.       +0.j\n",
       "  0.       +0.j  0.       +0.j  0.       +0.j  0.       +0.j ]\n",
       " [0.       +0.j  0.       +0.j  1.       +0.j  0.       +0.j\n",
       "  0.       +0.j  0.       +0.j  0.       +0.j  0.       +0.j ]\n",
       " [0.       +0.j  0.       +0.j  0.       +0.j  1.       +0.j\n",
       "  0.       +0.j  0.       +0.j  0.       +0.j  0.       +0.j ]\n",
       " [0.       +0.j  0.       +0.j  0.       +0.j  0.       +0.j\n",
       "  1.       +0.j  0.       +0.j  0.       +0.j  0.       +0.j ]\n",
       " [0.       +0.j  0.       +0.j  0.       +0.j  0.       +0.j\n",
       "  0.       +0.j  1.       +0.j  0.       +0.j  0.       +0.j ]\n",
       " [0.       +0.j  0.       +0.j  0.       +0.j  0.       +0.j\n",
       "  0.       +0.j  0.       +0.j  1.       +0.j  0.       +0.j ]\n",
       " [0.       +0.j  0.       +0.j  0.       +0.j  0.       +0.j\n",
       "  0.       +0.j  0.       +0.j  0.       +0.j  0.8660254+0.5j]]"
      ]
     },
     "execution_count": 35,
     "metadata": {},
     "output_type": "execute_result"
    }
   ],
   "source": [
    "ccphase({'qubit_num': 3, 'rotation':30})"
   ]
  },
  {
   "cell_type": "code",
   "execution_count": 36,
   "metadata": {},
   "outputs": [
    {
     "data": {
      "text/latex": [
       "Quantum object: dims = [[2, 2], [2, 2]], shape = (4, 4), type = oper, isherm = False\\begin{equation*}\\left(\\begin{array}{*{11}c}1.0 & 0.0 & 0.0 & 0.0\\\\0.0 & 1.0 & 0.0 & 0.0\\\\0.0 & 0.0 & 1.0 & 0.0\\\\0.0 & 0.0 & 0.0 & (0.866+0.500j)\\\\\\end{array}\\right)\\end{equation*}"
      ],
      "text/plain": [
       "Quantum object: dims = [[2, 2], [2, 2]], shape = (4, 4), type = oper, isherm = False\n",
       "Qobj data =\n",
       "[[1.       +0.j  0.       +0.j  0.       +0.j  0.       +0.j ]\n",
       " [0.       +0.j  1.       +0.j  0.       +0.j  0.       +0.j ]\n",
       " [0.       +0.j  0.       +0.j  1.       +0.j  0.       +0.j ]\n",
       " [0.       +0.j  0.       +0.j  0.       +0.j  0.8660254+0.5j]]"
      ]
     },
     "execution_count": 36,
     "metadata": {},
     "output_type": "execute_result"
    }
   ],
   "source": [
    "ccphase({'qubit_num': 2, 'rotation':30})"
   ]
  },
  {
   "cell_type": "code",
   "execution_count": 37,
   "metadata": {},
   "outputs": [
    {
     "data": {
      "text/latex": [
       "Quantum object: dims = [[2, 2], [2, 2]], shape = (4, 4), type = oper, isherm = False\\begin{equation*}\\left(\\begin{array}{*{11}c}1.0 & 0.0 & 0.0 & 0.0\\\\0.0 & 1.0 & 0.0 & 0.0\\\\0.0 & 0.0 & 1.0 & 0.0\\\\0.0 & 0.0 & 0.0 & (0.866+0.500j)\\\\\\end{array}\\right)\\end{equation*}"
      ],
      "text/plain": [
       "Quantum object: dims = [[2, 2], [2, 2]], shape = (4, 4), type = oper, isherm = False\n",
       "Qobj data =\n",
       "[[1.       +0.j  0.       +0.j  0.       +0.j  0.       +0.j ]\n",
       " [0.       +0.j  1.       +0.j  0.       +0.j  0.       +0.j ]\n",
       " [0.       +0.j  0.       +0.j  1.       +0.j  0.       +0.j ]\n",
       " [0.       +0.j  0.       +0.j  0.       +0.j  0.8660254+0.5j]]"
      ]
     },
     "execution_count": 37,
     "metadata": {},
     "output_type": "execute_result"
    }
   ],
   "source": [
    "cphase(pi/6)"
   ]
  },
  {
   "cell_type": "code",
   "execution_count": null,
   "metadata": {},
   "outputs": [],
   "source": []
  }
 ],
 "metadata": {
  "kernelspec": {
   "display_name": "py36",
   "language": "python",
   "name": "py36"
  },
  "language_info": {
   "codemirror_mode": {
    "name": "ipython",
    "version": 3
   },
   "file_extension": ".py",
   "mimetype": "text/x-python",
   "name": "python",
   "nbconvert_exporter": "python",
   "pygments_lexer": "ipython3",
   "version": "3.6.9"
  }
 },
 "nbformat": 4,
 "nbformat_minor": 2
}
